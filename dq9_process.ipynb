{
 "cells": [
  {
   "cell_type": "code",
   "execution_count": 1,
   "metadata": {},
   "outputs": [],
   "source": [
    "import pandas as pd\n",
    "import numpy as np\n",
    "import matplotlib.pyplot as plt\n",
    "%matplotlib inline\n",
    "import seaborn as sns\n",
    "import os"
   ]
  },
  {
   "cell_type": "code",
   "execution_count": 2,
   "metadata": {},
   "outputs": [],
   "source": [
    "#libraries for text preprocessing\n",
    "import re\n",
    "import nltk\n",
    "from nltk.corpus import stopwords\n",
    "from nltk.tokenize import word_tokenize\n",
    "from nltk.tokenize import sent_tokenize\n",
    "from bs4 import BeautifulSoup\n",
    "import codecs\n",
    "import spacy"
   ]
  },
  {
   "cell_type": "markdown",
   "metadata": {},
   "source": [
    "Document Type: John Deer"
   ]
  },
  {
   "cell_type": "code",
   "execution_count": 3,
   "metadata": {
    "scrolled": true
   },
   "outputs": [],
   "source": [
    "#read in html document\n",
    "j=codecs.open(\"data/424B2_a19-18449_4424b2.htm\", 'r', 'utf-8')\n",
    "john_deer= BeautifulSoup(j.read()).get_text()\n",
    "john_deer = re.sub('[\\s]*\\n[\\s]*','\\n', john_deer)\n",
    "john_deer = re.sub(' +',' ', john_deer) #replace multiple spaces with one space\n",
    "john_deer = john_deer.strip() #Remove spaces at the beginning and at the end of the string\n",
    "john_deer = john_deer.lower()\n",
    "john_deer = str(john_deer)"
   ]
  },
  {
   "cell_type": "markdown",
   "metadata": {},
   "source": [
    "#SpaCy NER\n",
    "nlp=spacy.load('en',tagger=False,parser=False,matcher=False)\n",
    "nlp.entity\n",
    "#create a spacy doc object by passing John Deer document\n",
    "doc = nlp(john_deer)\n",
    "#print all found entities and their labels\n",
    "for ent in doc.ents:\n",
    "    print(ent.label_,ent.text)"
   ]
  },
  {
   "cell_type": "code",
   "execution_count": 4,
   "metadata": {},
   "outputs": [
    {
     "data": {
      "text/plain": [
       "['prospectus andpricing supplement no.',\n",
       " '34prospectus supplement, eachdated september 9, 2019dated april 7, 2017, as supplementedregistration statement no.',\n",
       " '333-217193by supplement no.',\n",
       " '1 dated june 27, 2018 andfiled pursuant to rule 424(b)(2)supplement no.',\n",
       " '2 dated january 4, 2019u.s. $8,800,000,000john deere capital corporationmedium-term notes, series gdue 9 months or more from date of issue$400,000,000 floating rate senior notes due june 13, 2022the medium-term notes offered hereby will be floating rate notes and senior securities as more fully described in the accompanying prospectus and prospectus supplement and will be denominated in u.s. dollars.',\n",
       " 'cusip / isin:24422euz0 / us24422euz05date of issue*:september 12, 2019maturity date:june 13, 2022principal amount:$400,000,000interest rate basis:usd-libor-reuters(reuters page libor01)index maturity:3-monthspread:libor + 49 bpsday count:actual/360, adjustedinterest reset dates:quarterly on the 13th of march, june, september and december, commencing on september 12, 2019 and ending on the maturity dateinterest determination dates:two london business days preceding such interest reset dateinterest payment dates:quarterly on the 13th of march, june, september and december, commencing on december 13, 2019 and ending on the maturity dateminimum interest rate:0.000%day count convention:modified following, adjustedredemption provision:noneprice to public:100.000% plus accrued interest, if any, from september 12, 2019plan of distribution:nameprincipal amount of notescitigroup global markets inc.$90,000,000deutsche bank securities inc.90,000,000hsbc securities (usa) inc.90,000,000j.p. morgan securities llc90,000,000bnp paribas securities corp.10,000,000credit agricole securities (usa) inc.10,000,000credit suisse securities (usa) llc10,000,000loop capital markets llc10,000,000total$400,000,000the above agents have severally agreed to purchase the respective principal amount of notes, opposite their names as principal, at a price of 99.850% plus accrued interest, if any, from september 12, 2019.',\n",
       " '* pursuant to rule 15c6-1 under the securities exchange act of 1934, trades in the secondary market generally are required to settle in two business days unless the parties to any such trade expressly agree otherwise.',\n",
       " 'accordingly, purchasers of the notes who wish to trade the notes on the date hereof will be required, by virtue of the fact that the notes initially will settle in t+3, to specify an alternative settlement cycle at the time of any such trade to prevent failed settlement.',\n",
       " 'notice to prospective investors in the united kingdomthe communication of this pricing supplement and any other document or materials relating to the issue of the notes offered hereby is not being made, and such documents and/or materials have not been approved, by an authorized person for the purposes of section 21 of the united kingdom\\x92s financial services and markets act 2000, as amended (the \\x93fsma\\x94).',\n",
       " 'accordingly, such documents and/or materials are not being distributed to, and must not be passed on to, the general public in the united kingdom.',\n",
       " 'the communication of such documents and/or materials as a financial promotion is only being made to those persons in the united kingdom who have professional experience in matters relating to investments and who fall within the definition of investment professionals (as defined in article 19(5) of the financial services and markets act 2000 (financial promotion) order 2005, as amended (the \\x93financial promotion order\\x94)), or who fall within article 49(2)(a) to (d) of the financial promotion order, or who are any other persons to whom it may otherwise lawfully be made under the financial promotion order (all such persons together being referred to as \\x93relevant persons\\x94).',\n",
       " 'in the united kingdom, the notes offered hereby are only available to, and any investment or investment activity to which this pricing supplement relates will be engaged in only with, relevant persons.',\n",
       " 'any person in the united kingdom that is not a relevant person should not act or rely on this pricing supplement or any of its contents.',\n",
       " 'notice to prospective investors in the european economic areathis pricing supplement is not a prospectus for the purposes of the prospectus directive (as defined below).',\n",
       " 'this pricing supplement has been prepared on the basis that any offer of notes in any member state of the european economic area which has implemented the prospectus directive (each, a \\x93relevant member state\\x94) will be made pursuant to an exemption under the prospectus directive from the requirement to publish a prospectus for offers of notes.',\n",
       " 'accordingly any person making or intending to make an offer in that relevant member state of notes which are the subject of the offering contemplated in this pricing supplement may only do so in circumstances in which no obligation arises for john deere capital corporation (the \\x93issuer\\x94) or any of the agents to publish a prospectus pursuant to article 3 of the prospectus directive in relation to such offer.',\n",
       " 'neither the issuer nor the agents have authorised, nor do they authorise, the making of any offer of notes in circumstances in which an obligation arises for the issuer or the agents to publish a prospectus for such offer.',\n",
       " 'the expression \\x93prospectus directive\\x94 means directive 2003/71/ec (as amended, including by directive 2010/73/eu), and includes any relevant implementing measure in the relevant member state.']"
      ]
     },
     "execution_count": 4,
     "metadata": {},
     "output_type": "execute_result"
    }
   ],
   "source": [
    "#sentence tokenization\n",
    "john_deer_sentences = [w.replace('\\n','').replace('\\xa0',' ') for w in sent_tokenize(john_deer)]\n",
    "john_deer_sentences"
   ]
  },
  {
   "cell_type": "code",
   "execution_count": 5,
   "metadata": {},
   "outputs": [],
   "source": [
    "df_john_deer_sentences = pd.DataFrame(john_deer_sentences)"
   ]
  },
  {
   "cell_type": "code",
   "execution_count": 6,
   "metadata": {},
   "outputs": [],
   "source": [
    "df_john_deer_sentences = df_john_deer_sentences[0].astype(str)"
   ]
  },
  {
   "cell_type": "code",
   "execution_count": 49,
   "metadata": {},
   "outputs": [
    {
     "data": {
      "text/plain": [
       "0                  prospectus andpricing supplement no.\n",
       "1     34prospectus supplement, eachdated september 9...\n",
       "2                           333-217193by supplement no.\n",
       "3     1 dated june 27, 2018 andfiled pursuant to rul...\n",
       "4     2 dated january 4, 2019u.s. $8,800,000,000john...\n",
       "5     cusip / isin:24422euz0 / us24422euz05date of i...\n",
       "6     * pursuant to rule 15c6-1 under the securities...\n",
       "7     accordingly, purchasers of the notes who wish ...\n",
       "8     notice to prospective investors in the united ...\n",
       "9     accordingly, such documents and/or materials a...\n",
       "10    the communication of such documents and/or mat...\n",
       "11    in the united kingdom, the notes offered hereb...\n",
       "12    any person in the united kingdom that is not a...\n",
       "13    notice to prospective investors in the europea...\n",
       "14    this pricing supplement has been prepared on t...\n",
       "15    accordingly any person making or intending to ...\n",
       "16    neither the issuer nor the agents have authori...\n",
       "17    the expression prospectus directive means di...\n",
       "Name: 0, dtype: object"
      ]
     },
     "execution_count": 49,
     "metadata": {},
     "output_type": "execute_result"
    }
   ],
   "source": [
    "df_john_deer_sentences"
   ]
  },
  {
   "cell_type": "code",
   "execution_count": 47,
   "metadata": {},
   "outputs": [],
   "source": [
    "df_john_deer_senteces = df_john_deer_sentences[0:17,].replace(': ',':').replace(' / ','/').replace('     ','-')\n"
   ]
  },
  {
   "cell_type": "code",
   "execution_count": 48,
   "metadata": {
    "scrolled": true
   },
   "outputs": [
    {
     "data": {
      "text/plain": [
       "'cusip / isin:24422euz0 / us24422euz05date of issue*:september 12, 2019maturity date:june 13, 2022principal amount:$400,000,000interest rate basis:usd-libor-reuters(reuters page libor01)index maturity:3-monthspread:libor + 49 bpsday count:actual/360, adjustedinterest reset dates:quarterly on the 13th of march, june, september and december, commencing on september 12, 2019 and ending on the maturity dateinterest determination dates:two london business days preceding such interest reset dateinterest payment dates:quarterly on the 13th of march, june, september and december, commencing on december 13, 2019 and ending on the maturity dateminimum interest rate:0.000%day count convention:modified following, adjustedredemption provision:noneprice to public:100.000% plus accrued interest, if any, from september 12, 2019plan of distribution:nameprincipal amount of notescitigroup global markets inc.$90,000,000deutsche bank securities inc.90,000,000hsbc securities (usa) inc.90,000,000j.p. morgan securities llc90,000,000bnp paribas securities corp.10,000,000credit agricole securities (usa) inc.10,000,000credit suisse securities (usa) llc10,000,000loop capital markets llc10,000,000total$400,000,000the above agents have severally agreed to purchase the respective principal amount of notes, opposite their names as principal, at a price of 99.850% plus accrued interest, if any, from september 12, 2019.'"
      ]
     },
     "execution_count": 48,
     "metadata": {},
     "output_type": "execute_result"
    }
   ],
   "source": [
    "df_john_deer_sentences[5]"
   ]
  },
  {
   "cell_type": "markdown",
   "metadata": {},
   "source": [
    "#### Maturity Date keywords: 'maturity date', 'stated maturity', 'stated maturity date'\n",
    "#### Original face amount: 'face value', 'principal amount', 'aggregate principal amount offered'"
   ]
  },
  {
   "cell_type": "code",
   "execution_count": 8,
   "metadata": {},
   "outputs": [],
   "source": [
    "maturity_date_chunk = df_john_deer_sentences[5].replace(': ',':').replace(' / ','/').replace('     ','-').split('--')"
   ]
  },
  {
   "cell_type": "code",
   "execution_count": 9,
   "metadata": {},
   "outputs": [
    {
     "data": {
      "text/plain": [
       "['cusip/isin:24422euz0/us24422euz05date of issue*:september 12, 2019maturity date:june 13, 2022principal amount:$400,000,000interest rate basis:usd-libor-reuters(reuters page libor01)index maturity:3-monthspread:libor + 49 bpsday count:actual/360, adjustedinterest reset dates:quarterly on the 13th of march, june, september and december, commencing on september 12, 2019 and ending on the maturity dateinterest determination dates:two london business days preceding such interest reset dateinterest payment dates:quarterly on the 13th of march, june, september and december, commencing on december 13, 2019 and ending on the maturity dateminimum interest rate:0.000%day count convention:modified following, adjustedredemption provision:noneprice to public:100.000% plus accrued interest, if any, from september 12, 2019plan of distribution:nameprincipal amount of notescitigroup global markets inc.$90,000,000deutsche bank securities inc.90,000,000hsbc securities (usa) inc.90,000,000j.p. morgan securities llc90,000,000bnp paribas securities corp.10,000,000credit agricole securities (usa) inc.10,000,000credit suisse securities (usa) llc10,000,000loop capital markets llc10,000,000total$400,000,000the above agents have severally agreed to purchase the respective principal amount of notes, opposite their names as principal, at a price of 99.850% plus accrued interest, if any, from september 12, 2019.']"
      ]
     },
     "execution_count": 9,
     "metadata": {},
     "output_type": "execute_result"
    }
   ],
   "source": [
    "maturity_date_chunk"
   ]
  },
  {
   "cell_type": "code",
   "execution_count": 10,
   "metadata": {
    "scrolled": true
   },
   "outputs": [
    {
     "data": {
      "text/plain": [
       "<re.Match object; span=(70, 97), match='maturity date:june 13, 2022'>"
      ]
     },
     "execution_count": 10,
     "metadata": {},
     "output_type": "execute_result"
    }
   ],
   "source": [
    "re.search(r'(maturity ?(\\w*):(\\w*) (\\d*), (\\d*))', \n",
    "                 df_john_deer_sentences[5])"
   ]
  },
  {
   "cell_type": "code",
   "execution_count": 11,
   "metadata": {},
   "outputs": [
    {
     "data": {
      "text/plain": [
       "<re.Match object; span=(97, 115), match='principal amount:$'>"
      ]
     },
     "execution_count": 11,
     "metadata": {},
     "output_type": "execute_result"
    }
   ],
   "source": [
    "re.search(r'(principal amount([' '])?(\\w*)?([' '])?(\\w*)?([' '])?(\\w*)?(\\:)([' '])?(\\w*)?([' '])?(\\$)(\\d*),(\\d*)?,?(\\d*)?,?(\\d*)?([' '])?(per note)?)', df_john_deer_sentences[5])\n"
   ]
  },
  {
   "cell_type": "code",
   "execution_count": 12,
   "metadata": {},
   "outputs": [
    {
     "data": {
      "text/plain": [
       "<re.Match object; span=(97, 126), match='principal amount:$400,000,000'>"
      ]
     },
     "execution_count": 12,
     "metadata": {},
     "output_type": "execute_result"
    }
   ],
   "source": [
    "re.search(r'(principal amount(\\:)(\\$)(\\d*),(\\d*)?,?(\\d*)?,?(\\d*))', df_john_deer_sentences[5])\n"
   ]
  },
  {
   "cell_type": "markdown",
   "metadata": {},
   "source": [
    "Document Type: Wells Fargo"
   ]
  },
  {
   "cell_type": "code",
   "execution_count": 13,
   "metadata": {},
   "outputs": [],
   "source": [
    "#read in html document\n",
    "j=codecs.open(\"data/424B2_d833231d424b2.htm\", 'r', 'utf-8')\n",
    "wells= BeautifulSoup(j.read()).get_text()\n",
    "wells = re.sub('[\\s]*\\n[\\s]*','\\n', wells)\n",
    "wells = re.sub(' +',' ', wells) #replace multiple spaces with one space\n",
    "wells = wells.strip() #Remove spaces at the beginning and at the end of the string\n",
    "wells = wells.lower()\n",
    "wells = str(wells)"
   ]
  },
  {
   "cell_type": "code",
   "execution_count": 14,
   "metadata": {},
   "outputs": [
    {
     "data": {
      "text/plain": [
       "['definitive pricing supplement no.',\n",
       " '9filed pursuant to rule 424(b)(2)registration no.',\n",
       " '333-216234pricing supplement no.',\n",
       " '9 dated february 4, 2020(to prospectus supplement dated april 7, 2017and prospectus dated march 14, 2019)wells fargo & companymedium-term notes, series qsenior redeemable fixed-to-floating rate notesyou should read the more detailed description of the notes provided under \\x93description of notes\\x94 in the accompanyingprospectus supplement and \\x93description of debt securities\\x94 in the accompanying prospectus, as supplemented by this pricing supplement.',\n",
       " 'all payments on the notes are subject to the credit risk of wells fargo & company.',\n",
       " 'if wellsfargo & company defaults on its obligations, you could lose some or all of your investment.',\n",
       " 'certain defined terms used but not defined herein have the meanings set forth in the accompanying prospectus supplement and prospectus.',\n",
       " 'aggregate principal amount offered:$3,000,000,000trade date:february 4, 2020original issue date:february 11, 2020 (t+5)stated maturity date:february 11, 2026; on the stated maturity date, the holders of the notes will be entitled to receive a cash payment inu.s. dollars equal to 100% of the principal amount of the notes plus any accrued and unpaid interestoptional redemption:at our option, we may redeem the notes, in whole at any time or in part from time to time on any day included in themake-whole redemption period, at a redemption price equal to the sum of: (i) 100% of the principal amount of the notes being redeemed plus accrued and unpaid interest thereon, to, but excluding, the make-whole redemption date and (ii) themake-whole amount, as described under \\x93description of debt securities\\x97redemption and repayment\\x97optional make-whole redemption of debt securities\\x94 in the accompanying prospectus.',\n",
       " 'as used in connection with the notes:the \\x93make-whole redemption period\\x94 is the period commencing on and including february 18, 2021 andending on and including february 10, 2025.the \\x93make-whole spread\\x94 is 0.125%.',\n",
       " 'at our option, we may also redeem the notes (i) in whole, but not in part, on february 11, 2025 or (ii) inwhole at any time or in part from time to time, on or after january 9, 2026, in each case at a redemption price equal to 100% of the principal amount of the notes being redeemed plus accrued and unpaid interest thereon to, but excluding, thedate of such redemption.',\n",
       " 'any redemption may be subject to prior regulatory approval and will be effected as described under \\x93description ofdebt securities\\x97redemption and repayment\\x97optional redemption by us\\x94 in the accompanying prospectus, modified as provided in this pricing supplement.',\n",
       " 'price to public (issue price):100.00%, plus accrued interest, if any, from february 11, 2020agent discount(gross spread):0.35%all-in price (net ofagent discount):99.65%, plus accrued interest, if any, from february 11, 2020net proceeds:$2,989,500,000interest rate:the notes will bear interest at a fixed rate from february 11, 2020 to, but excluding, february 11, 2025 (the\\x93fixed rate period\\x94) and, if not previously redeemed, at a floating rate from, and including, february 11, 2025 to, but excluding, maturity (the \\x93floating rateperiod\\x94).',\n",
       " 'fixed rate termsfixed rate period:see \\x93description of debt securities\\x97interest and principal payments\\x94 and \\x93\\x97fixed rate debtsecurities\\x94 in the accompanying prospectus for additional information.',\n",
       " 'initial interest rate:2.164%interest payment dates:each february 11 and august 11, commencing august 11, 2020 and ending february 11, 2025business day:for interest payable for the fixed rate period, any day, other than a saturday or sunday, that is neither a legal holidaynor a day on which banking institutions are authorized or required by law or regulation to close in new york, new york.',\n",
       " 'benchmark:ust 1.375% due january 31, 2025benchmark yield:1.414%spread to benchmark:+75 basis pointsre-offer yield:2.164%floating rate termsfloating rate period:see \\x93description of debt securities\\x97interest and principal payments\\x94 and \\x93\\x97floating rate debtsecurities\\x94 in the accompanying prospectus for additional information.',\n",
       " 'in the event that a benchmark transition event (as defined below) and its related benchmark replacement date (as defined below) occur, the terms set forth in this sectionentitled \\x93floating rate terms\\x942and related provisions contained in the accompanying prospectus shall become subject to modification as described under thesection entitled \\x93effect of benchmark transition event\\x94 below.',\n",
       " 'base rate:libor, as defined in the accompanying prospectusindex maturity:three monthsspread:+73 basis pointsindex currency:u.s. dollarsdesignated libor page:page libor01 as displayed on reuters or any successor service (or such other page as may replace page libor01 on thatservice or successor service)interest determination date:the second london banking day prior to an interest reset datelondon banking day:any day on which commercial banks and foreign exchange markets settle payments in londonbusiness day:for interest payable for the floating rate period, any day, other than a saturday or sunday, that is neither a legalholiday nor a day on which banking institutions are authorized or required by law or regulation to close in new york, new york that is also a london banking day.',\n",
       " 'interest reset periods:quarterlyinterest reset dates:each february 11, may 11, august 11 and november 11, commencing february 11, 2025 and endingnovember 11, 2025.interest payment dates:each february 11, may 11, august 11 and november 11, commencing may 11, 2025, and atmaturity.',\n",
       " 'initial interest rate forthe floating rate period:three-month libor plus 0.73%, determined on the second london banking day prior tofebruary 11, 2025calculation agent:the calculation agent for the notes has not been appointed, but we will appoint a calculation agent prior to thecommencement of the floating rate period.',\n",
       " 'an affiliate of ours may be appointed the calculation agent.',\n",
       " 'references to \\x93our designee\\x94 in the sections entitled \\x93effect of benchmark transition event\\x94 and \\x93risk factors\\x94shall mean the calculation agent appointed by us.',\n",
       " 'effect of benchmark transition eventupon the occurrence of a benchmark transition event and its related benchmark replacement date, the following terms will apply to the notessolely in respect of determinations, decisions, elections, calculations and adjustments to be made in respect of the floating rate period.',\n",
       " '3benchmark replacementif we or our designee determine that a benchmark transition event and its related benchmark replacement date have occurredprior to the reference time in respect of any determination of the benchmark on any date, the benchmark replacement will replace the then-current benchmark for all purposes relating to the notes in respect of such determination on such date and alldeterminations on all subsequent dates.',\n",
       " 'benchmark replacement conforming changesin connection with the implementation of a benchmark replacement, we or our designee will have the right to make benchmarkreplacement conforming changes from time to time.',\n",
       " 'decisions and determinationsany determination, decision, election or calculation that may be made by us or our designee pursuant to this section entitled\\x93effect of benchmark transition event,\\x94 including any determination with respect to a tenor, rate or adjustment or of the occurrence or non-occurrence of an event, circumstance or date and anydecision to take or refrain from taking any action or any selection, will be conclusive and binding absent manifest error, may be made in our or our designee\\x92s sole discretion, and, notwithstanding anything to the contrary herein relating tothe notes, shall become effective without consent from any other party.',\n",
       " 'for the avoidance of doubt, after a benchmarktransition event and its related benchmark replacement date have occurred, interest payable on the notes for the floating rate period will be an annual rate equal to the sum of the applicable benchmark replacement and the spread set forth under thesection entitled \\x93floating rate terms\\x94 above.',\n",
       " 'definitionsas used in this section entitled \\x93effect of benchmark transition event\\x94:\\x93benchmark\\x94 means, initially, three-month libor; provided that if a benchmark transition event and itsrelated benchmark replacement date have occurred with respect to three-month libor or the then-current benchmark, then \\x93benchmark\\x94 means the applicable benchmark replacement.',\n",
       " '\\x93benchmark replacement\\x94 means the interpolated benchmark with respect to the then-current benchmark, plus thebenchmark replacement adjustment for such benchmark; provided that if we or our designee cannot determine the interpolated benchmark as of the benchmark replacement date, then \\x93benchmark replacement\\x94 means the first alternative setforth in the order below that can be determined by us or our designee as of the benchmark replacement date:(1)the sum of: (a) term sofr and (b) the benchmark replacement adjustment;(2)the sum of: (a) compounded sofr and (b) the benchmark replacement adjustment;(3)the sum of: (a) the alternate rate of interest that has been selected or recommended by the relevantgovernmental body as the replacement for the then-current benchmark for the applicable corresponding tenor and (b) the benchmark replacement adjustment;(4)the sum of: (a) the isda fallback rate and (b) the benchmark replacement adjustment;(5)the sum of: (a) an alternate rate of interest that has been selected by us or our designee as thereplacement for the then-current benchmark for the applicable corresponding tenor that gives due consideration to any industry-accepted rate of interest as a replacement for the then-current4benchmark for u.s. dollar denominated floating rate notes at such time and (b) the benchmark replacement adjustment.',\n",
       " '\\x93benchmark replacement adjustment\\x94 means the first alternative set forth in the order below that can bedetermined by us or our designee as of the benchmark replacement date:(1)the spread adjustment, or method for calculating or determining such spread adjustment, (which may be apositive or negative value or zero) that has been selected or recommended by the relevant governmental body for the applicable unadjusted benchmark replacement;(2)if the applicable unadjusted benchmark replacement is equivalent to the isda fallback rate, then the isdafallback adjustment;(3)the spread adjustment (which may be a positive or negative value or zero) that has been selected by us orour designee giving due consideration to any industry-accepted spread adjustment, or method for calculating or determining such spread adjustment, for the replacement of the then-current benchmark with the applicable unadjusted benchmark replacementfor u.s. dollar denominated floating rate notes at such time.',\n",
       " '\\x93benchmark replacement conformingchanges\\x94 means, with respect to any benchmark replacement, any technical, administrative or operational changes (including changes to the definitions of interest reset period and interest reset date, timing and frequency ofdetermining rates and making payments of interest, rounding of amounts or tenors, changes to the definition of \\x93corresponding tenor\\x94 solely when such tenor is longer than the interest reset period and other administrative matters) that weor our designee decide may be appropriate to reflect the adoption of such benchmark replacement in a manner substantially consistent with market practice (or, if we or our designee decide that adoption of any portion of such market practice is notadministratively feasible or if we or our designee determine that no market practice for use of the benchmark replacement exists, in such other manner as we or our designee determine is reasonably necessary).',\n",
       " '\\x93benchmark replacement date\\x94 means the earliest to occur of the following events with respect tothe then-current benchmark:(1)in the case of clause (1) or (2) of the definition of \\x93benchmark transition event,\\x94 the laterof (a) the date of the public statement or publication of information referenced therein and (b) the date on which the administrator of the benchmark permanently or indefinitely ceases to provide the benchmark; or(2)in the case of clause (3) of the definition of \\x93benchmark transition event,\\x94 the date of thepublic statement or publication of information referenced therein.',\n",
       " 'for the avoidance of doubt, if the event giving riseto the benchmark replacement date occurs on the same day as, but earlier than, the reference time in respect of any determination, the benchmark replacement date will be deemed to have occurred prior to the reference time for such determination.',\n",
       " '\\x93benchmark transition event\\x94 means the occurrence of one or more of the following events withrespect to the then-current benchmark:(1)a public statement or publication of information by or on behalf of the administrator of the benchmarkannouncing that such administrator has ceased or will cease to provide the benchmark, permanently or indefinitely, provided that, at the time of such statement or publication, there is no successor administrator that will continue to providethe benchmark;5(2)a public statement or publication of information by the regulatory supervisor for the administrator of thebenchmark, the central bank for the currency of the benchmark, an insolvency official with jurisdiction over the administrator for the benchmark, a resolution authority with jurisdiction over the administrator for the benchmark or a court or anentity with similar insolvency or resolution authority over the administrator for the benchmark, which states that the administrator of the benchmark has ceased or will cease to provide the benchmark permanently or indefinitely, providedthat, at the time of such statement or publication, there is no successor administrator that will continue to provide the benchmark; or(3)a public statement or publication of information by the regulatory supervisor for the administrator of thebenchmark announcing that the benchmark is no longer representative.',\n",
       " '\\x93compounded sofr\\x94means the compounded average of sofrs for the applicable corresponding tenor, with the rate, or methodology for this rate, and conventions for this rate (which will be compounded in arrears with a lookback and/or suspension period as a mechanism todetermine the interest amount payable prior to each interest payment date) being established by us or our designee in accordance with:(1)the rate, or methodology for this rate and conventions for this rate selected or recommended by the relevantgovernmental body for determining compounded sofr; provided that:(2)if, and to the extent that, we or our designee determine that compounded sofr cannot be determined inaccordance with clause (1) above, then the rate, or methodology for this rate, and conventions for this rate that have been selected by us or our designee giving due consideration to any industry-accepted market practice for u.s. dollardenominated floating rate notes at such time.',\n",
       " '\\x93corresponding tenor\\x94 with respect to abenchmark replacement means a tenor (including overnight) having approximately the same length (disregarding business day adjustment) as the applicable tenor for the then-current benchmark.',\n",
       " '\\x93federal reserve bank of new york\\x92s website\\x94 means the website of the federal reserve bank of new york athttp://www.newyorkfed.org, or any successor source.',\n",
       " '\\x93interpolated benchmark\\x94 with respect to thebenchmark means the rate determined for the corresponding tenor by interpolating on a linear basis between: (1) the benchmark for the longest period (for which the benchmark is available) that is shorter than the corresponding tenor and(2) the benchmark for the shortest period (for which the benchmark is available) that is longer than the corresponding tenor.',\n",
       " '\\x93isda definitions\\x94 means the 2006 isda definitions published by the international swaps andderivatives association, inc. (\\x93isda\\x94) or any successor thereto, as amended or supplemented from time to time, or any successor definitional booklet for interest rate derivatives published from time to time.',\n",
       " '\\x93isda fallback adjustment\\x94 means the spread adjustment, (which may be a positive or negativevalue or zero) that would apply for derivatives transactions referencing the isda definitions to be determined upon the occurrence of an index cessation event with respect to the benchmark for the applicable tenor.',\n",
       " '\\x93isda fallback rate\\x94 means the rate that would apply for derivatives transactions referencing the isdadefinitions to be effective upon the occurrence of an index cessation date with respect to the benchmark for the applicable tenor excluding the applicable isda fallback adjustment.',\n",
       " '6\\x93reference time\\x94 with respect to any determination of thebenchmark means (1) if the benchmark is three-month libor, 11:00 a.m. (london time) on the day that is two london banking days preceding the date of such determination, and (2) if the benchmark is not three-month libor, the time determinedby us or our designee in accordance with the benchmark replacement conforming changes.',\n",
       " '\\x93relevant governmentalbody\\x94 means the federal reserve board and/or the federal reserve bank of new york, or a committee officially endorsed or convened by the federal reserve board and/or the federal reserve bank of new york or any successor thereto.',\n",
       " '\\x93sofr\\x94 with respect to any day means the secured overnight financing rate published for such day by thefederal reserve bank of new york, as the administrator of the benchmark, (or a successor administrator) on the federal reserve bank of new york\\x92s website.',\n",
       " '\\x93term sofr\\x94 means the forward-looking term rate for the applicable corresponding tenor based on sofr that hasbeen selected or recommended by the relevant governmental body.',\n",
       " '\\x93unadjusted benchmark replacement\\x94 meansthe benchmark replacement excluding the benchmark replacement adjustment.',\n",
       " 'risk factors:if a benchmark transition event and its related benchmark replacement date occur with respect to libor, the interestrate for the floating rate period will no longer be determined by reference to libor.',\n",
       " 'on july 27, 2017, the chief executive of the united kingdom financial conduct authority, which regulates libor,announced that it intends to stop persuading or compelling banks to submit rates for the calculation of libor to the administrator of libor after 2021. the announcement indicates that the continuation of libor on the current basis cannot and willnot be guaranteed after 2021. unless the notes have been previously redeemed, the interest rate on the notes will be based on libor beginning on the date set forth above.',\n",
       " 'it is impossible to predict whether and to what extent banks will continue toprovide libor submissions to the administrator of libor or whether any additional reforms to libor may be enacted in the united kingdom or elsewhere.',\n",
       " 'if a benchmark transition event and its related benchmark replacement date occur with respect to libor, then for eachinterest reset date in respect of the floating rate period that occurs on or after such benchmark replacement date, the floating rate of interest on the notes will no longer be determined by reference to libor, but instead will be determined by usor our designee by reference to another rate, as described above under the section entitled \\x93effect of benchmark transition event.\\x94 while the rate used to determine the interest rate on the notes in these circumstances is expected to beterm sofr, it is possible that such rate will instead be compounded sofr or another rate pursuant to the definition of \\x93benchmark replacement\\x94 set forth above.',\n",
       " 'the occurrence of a benchmark transition event andits7related benchmark replacement date may adversely affect the value of and your return on the notes.',\n",
       " 'the benchmark replacement is uncertain.',\n",
       " 'although the notes provide that the rate used to determine the floating rate of interest on the notes upon the occurrenceof a benchmark transition event and its related benchmark replacement date is expected to be term sofr, such rate does not exist as of the date hereof, and there is no guarantee that term sofr will exist prior to any discontinuation of libor.',\n",
       " 'assuming term sofr does not exist at the time of a benchmark transition event and its related benchmark replacement date, the notes provide that the floating rate of interest on the notes will be determined by reference to compounded sofr or anotherrate pursuant to the definition of \\x93benchmark replacement\\x94 set forth above.',\n",
       " 'there is currently, however, no market convention with respect to the calculation of compounded sofr.',\n",
       " 'the additional alternative rates referenced in the definitionof \\x93benchmark replacement\\x94 are also uncertain.',\n",
       " 'in particular, the isda fallback rate, which is the rate referenced in the isda definitions at the time of a benchmark transition event and its related benchmark replacement date, has not beenestablished as of the date hereof.',\n",
       " 'even after the isda fallback rate is initially determined, isda definitions and the isda fallback rate may change over time.',\n",
       " 'if each alternative rate referenced in the definition of \\x93benchmarkreplacement\\x94 is unavailable or indeterminable, we or our designee will determine the benchmark replacement that will apply to the notes.',\n",
       " 'the substitution of a benchmark replacement for libor may adversely affect the value of and your return onthe notes.',\n",
       " 'we or our designee will have authority to make determinations, elections, calculations and adjustments that could affectthe value of and your return on the notes.',\n",
       " 'we or our designee will make determinations, decisions, elections, calculations and adjustments as set forth under thesection entitled \\x93effect of benchmark transition event\\x94 above that may adversely affect the value of and your return on the notes.',\n",
       " 'in particular, we or our designee will determine the benchmark replacement and the benchmark replacementadjustment and can apply any benchmark replacement conforming changes deemed reasonably necessary to adopt the benchmark replacement.',\n",
       " 'although we or our designee will exercise judgment in good faith when performing such functions, potentialconflicts of interest may exist between us, our designee and you.',\n",
       " 'all determinations, decisions, elections, calculations and adjustments by us or our designee in our or its discretion will be conclusive for all purposes and binding on us and holdersof the notes absent manifest error.',\n",
       " 'in making the determinations, decisions, elections, calculations and adjustments noted under the section entitled \\x93effect of benchmarktransition8event\\x94 above, we or our designee may have economic interests that are adverse to your interests, and suchdeterminations, decisions, elections, calculations and adjustments may adversely affect the value of and your return on the notes.',\n",
       " 'because the continuation of libor on the current basis cannot and will not be guaranteed, and because the benchmarkreplacement is uncertain, we or our designee are likely to exercise more discretion in respect of calculating interest payable on the notes for the floating rate period than would be the case in the absence of a benchmark transition event and itsrelated benchmark replacement date.',\n",
       " 'term sofr does not currently exist and may not exist prior to any discontinuation of libor.',\n",
       " 'if a benchmark transition event and its related benchmark replacement date occur with respect to libor, the benchmarkreplacement used to determine the interest payable on the notes for the floating rate period is expected to be term sofr.',\n",
       " 'as of the date hereof, term sofr does not exist, and there is no guarantee that term sofr will exist prior to anydiscontinuation of libor.',\n",
       " 'even if term sofr is developed, it is unclear whether it will be a suitable substitute or successor for libor.',\n",
       " 'in addition, while the terms of the notes provide for a \\x93benchmark replacement adjustment\\x94 to be added to termsofr to approximate a libor-equivalent rate, such rate may be only an estimate or approximation of libor, may not be subject to continued verification against libor if it is suspended, discontinued or unavailable, and may not result in a rate thatis the economic equivalent of libor.',\n",
       " 'uncertainty surrounding the development of term sofr may adversely affect the value of and your return on thenotes.',\n",
       " 'compounded sofr is not a forward-looking rate and may not be a suitable substitute for libor.',\n",
       " 'assuming term sofr does not exist at the time of a benchmark transition event and its related benchmark replacement date,the notes provide that the floating rate of interest on the notes will be determined by reference to compounded sofr.',\n",
       " 'compounded sofr is the compounded average of daily sofrs calculated in arrears while libor is a forward-looking rate that ispublished with different maturities.',\n",
       " 'in addition, while the terms of the notes provide for a \\x93benchmark replacement adjustment\\x94 to be added tocompounded sofr to approximate a libor-equivalent rate, such rate may be only an estimate or approximation of libor, may not be subject to continued verification against libor if it is suspended,9discontinued or unavailable, and may not result in a rate that is the economic equivalent of libor.',\n",
       " 'uncertainty surrounding the establishment of marketconventions related to the calculation of compounded sofr and whether it is a suitable substitute or successor for libor may adversely affect the value of and your return on the notes.',\n",
       " 'sofr has a very limited history; the futureperformance of sofr cannot be predicted based on historical performance.',\n",
       " 'the publication of sofr began on april 3, 2018,and it therefore has a limited history.',\n",
       " 'in addition, the future performance of sofr cannot be predicted based on the limited historical performance.',\n",
       " 'the level of sofr following the occurrence of a benchmark transition event and its related benchmarkreplacement date may bear little or no relation to the historical level of sofr.',\n",
       " 'prior observed patterns, if any, in the behavior of market variables, such as correlations, may change in the future.',\n",
       " 'while somepre-publication historical data has been released by the federal reserve bank of new york, such analysis inherently involves assumptions, estimates and approximations.',\n",
       " 'the future performance of sofr isimpossible to predict and therefore no future performance of sofr or the notes may be inferred from any of the historical simulations or historical performance.',\n",
       " 'hypothetical or historical performance data are not indicative of, and have no bearingon, the potential performance of sofr or the notes.',\n",
       " 'any failure of sofr to gain market acceptance couldadversely affect the notes.',\n",
       " 'sofr may fail to gain market acceptance.',\n",
       " 'sofr wasdeveloped for use in certain u.s. dollar derivatives and other financial contracts as an alternative to u.s. dollar libor in part because it is considered a good representation of general funding conditions in the overnight treasury repomarket.',\n",
       " 'however, as a rate based on transactions secured by u.s. treasury securities, it does not measure bank-specific credit risk and, as a result, is less likely to correlate with the unsecured short-term funding costs of banks.',\n",
       " 'this may meanthat market participants would not consider sofr a suitable substitute or successor for all of the purposes for which libor historically has been used (including, without limitation, as a representation of the unsecured short-term funding costs ofbanks), which may, in turn, lessen market acceptance of sofr.',\n",
       " 'any failure of sofr to gain market acceptance could adversely affect the value of and your return on the notes and the price at which you can sell your notes.',\n",
       " '10the composition and characteristics of sofr are not the same as those of libor and sofr is not expected to be acomparable substitute for libor.',\n",
       " 'in june 2017, the federal reserve bank of newyork\\x92s alternative reference rates committee announced sofr as its recommended alternative to u.s. dollar libor.',\n",
       " 'however, the composition and characteristics of sofr are not the same as those of libor.',\n",
       " 'sofr is a broad treasury repofinancing rate that represents overnight secured funding transactions.',\n",
       " 'this means that sofr is not the economic equivalent of libor (or any other alternative reference rate to libor) for two key reasons.',\n",
       " 'first, sofr is a secured rate, while libor isan unsecured rate.',\n",
       " 'second, sofr is currently only an overnight rate, while libor is a forward-looking rate that represents interbank funding over different maturities.',\n",
       " 'as a result, there can be no assurance that sofr will perform in the same way aslibor would have at any time, including, without limitation, as a result of changes in interest and yield rates in the market, market volatility or global or regional economic, financial, political, regulatory, judicial or other events.',\n",
       " 'for the samereasons, there is no guarantee that sofr is comparable as a substitute for libor.',\n",
       " 'in addition, while the terms of the notes provide fora \\x93benchmark replacement adjustment\\x94 to be added to the unadjusted benchmark replacement to approximate a libor-equivalent rate, such rate may be only an estimate or approximation of libor, may not be subject to continued verificationagainst libor if it is suspended, discontinued or unavailable, and may not result in a rate that is the economic equivalent of libor.',\n",
       " 'the administrator of sofr may make changes thatcould change the value of sofr or discontinue sofr and has no obligation to consider your interests in doing so.',\n",
       " 'sofr is a relatively new rate, and the federal reservebank of new york (or a successor), as administrator of sofr, may make methodological or other changes that could change the value of sofr, including changes related to the method by which sofr is calculated, eligibility criteria applicable to thetransactions used to calculate sofr, or timing related to the publication of sofr.',\n",
       " 'in addition, the administrator may alter, discontinue or suspend calculation or dissemination of sofr (in which case an alternative rate referenced in the definitionof \\x93replacement benchmark\\x94 will apply).',\n",
       " 'the administrator has no obligation to consider your interests in calculating, adjusting, converting, revising or discontinuing sofr.',\n",
       " 'see \\x93risk factors\\x94 in the accompanyingprospectus for additional risk factors regarding the notes, including, in particular, the risk factor entitled \\x93one of our affiliates may act as the calculation11agent with respect to our securities and, as a result, potential conflicts of interest could arise.\\x94additional informationabout the notes:you should read this pricing supplement together with the prospectus supplement dated april 7, 2017 and theprospectus dated march 14, 2019 for additional information about the notes.',\n",
       " 'when you read the accompanying prospectus supplement, please note that all references in such supplement to the prospectus dated february 24, 2017, or to anysections or page numbers therein or the table of contents therefor, should refer instead to the accompanying prospectus dated march 14, 2019 or to the corresponding sections, page numbers or table of contents of such prospectus, asapplicable.',\n",
       " 'listing:noneprincipal amountagent (sole bookrunner):wells fargo securities, llc$2,805,000,000agents (senior co-managers):bmo capital markets corp.30,000,000capital one securities, inc.30,000,000anz securities, inc.15,000,000citizens capital markets, inc.15,000,000fhn financial securities corp.15,000,000keybanc capital markets inc.15,000,000mufg securities americas inc.15,000,000agents (junior co-managers):academy securities, inc.7,500,000castleoak securities, l.p.7,500,000drexel hamilton, llc7,500,000great pacific securities7,500,000mfr securities, inc.7,500,000penserra securities llc7,500,000samuel a. ramirez & company, inc.7,500,000stern brothers & co.7,500,000total:$      3,000,000,000supplemental plan ofdistribution:on february 4, 2020, we agreed to sell to the agents, and the agents agreed to purchase, the notes at a purchaseprice of 99.65%, plus accrued interest, if any, from february 11, 2020. the purchase price equals the issue price of 100.00% less a discount of 0.35% of the principal amount of the notes.',\n",
       " 'united states federalincome tax considerations:in the opinion of faegre drinker biddle & reath llp, the notes should be considered variable rate debtsecurities that provide for stated interest at a fixed rate in addition to a qualified floating rate.',\n",
       " 'see \\x93u.s.',\n",
       " 'federal income tax considerations\\x97u.s.',\n",
       " 'federal12income taxation of u.s. holders\\x97variable rate debt securities\\x94 in the accompanying prospectus.',\n",
       " 'notwithstandingthat we expect that the notes will be issued at par, under rules governing notes with a fixed rate in addition to a qualified floating rate, it is possible that the notes could be issued with oid.',\n",
       " 'whether the notes are issued with oid will bedetermined at the time of issue.',\n",
       " 'information regarding the determination of the amount of oid, if any, on the notes may be obtained by submitting a written request to wells fargo bank, national association, treasury funding desk, n9310-060, 550 south fourth street, minneapolis, mn 55415-1529.in october 2019, the united states department of treasury released proposed regulations that would apply to debtsecurities, including the notes, with an alternative rate in the event that libor is unavailable or unreliable.',\n",
       " 'the notes will be treated as having a single \\x93qualified floating rate\\x94 and the possibility that libor will become unavailableor unreliable is treated as a \\x93remote contingency\\x94 that will be disregarded for purposes of determining whether the notes are subject to a contingency.',\n",
       " 'further, the replacement of libor with an alternative rate will not be a modificationand will not result in a deemed exchange of the notes if the fair market value of the notes after the replacement is substantially equivalent to the fair market value before replacement.',\n",
       " 'the proposed regulations provide two safe harbors fordetermining whether the fair market value is substantially equivalent after the alternation.',\n",
       " 'the proposed regulations are effective after they are published as final regulations, though taxpayers may rely on them earlier in certain circumstances.',\n",
       " 'prospective investors should consult their tax advisors regarding the application of the proposed regulations to the notes.',\n",
       " 'additional tax considerations are discussed under \\x93u.s.',\n",
       " 'federal income tax considerations\\x94 in the accompanyingprospectus.',\n",
       " 'cusip:95000u2k813']"
      ]
     },
     "execution_count": 14,
     "metadata": {},
     "output_type": "execute_result"
    }
   ],
   "source": [
    "#sentence tokenization\n",
    "wells_sentences = [w.replace('\\n','').replace('\\xa0',' ') for w in sent_tokenize(wells)]\n",
    "wells_sentences"
   ]
  },
  {
   "cell_type": "code",
   "execution_count": 15,
   "metadata": {},
   "outputs": [],
   "source": [
    "df_wells_sentences = pd.DataFrame(wells_sentences)"
   ]
  },
  {
   "cell_type": "code",
   "execution_count": 18,
   "metadata": {},
   "outputs": [],
   "source": [
    "df_wells_sentences = df_wells_sentences[0].astype(str)"
   ]
  },
  {
   "cell_type": "code",
   "execution_count": 20,
   "metadata": {},
   "outputs": [
    {
     "data": {
      "text/plain": [
       "['aggregate principal amount offered:$3,000,000,000trade date:february 4, 2020original issue date:february 11, 2020 (t+5)stated maturity date:february 11, 2026; on the stated maturity date, the holders of the notes will be entitled to receive a cash payment inu.s. dollars equal to 100% of the principal amount of the notes plus any accrued and unpaid interestoptional redemption:at our option, we may redeem the notes, in whole at any time or in part from time to time on any day included in themake-whole redemption period, at a redemption price equal to the sum of:(i) 100% of the principal amount of the notes being redeemed plus accrued and unpaid interest thereon, to, but excluding, the make-whole redemption date and (ii) themake-whole amount, as described under \\x93description of debt securities\\x97redemption and repayment\\x97optional make-whole redemption of debt securities\\x94 in the accompanying prospectus.']"
      ]
     },
     "execution_count": 20,
     "metadata": {},
     "output_type": "execute_result"
    }
   ],
   "source": [
    "wells_chunk = df_wells_sentences[7].replace(': ',':').replace(' / ','/').replace('     ','-').split('--')\n",
    "wells_chunk"
   ]
  },
  {
   "cell_type": "code",
   "execution_count": 84,
   "metadata": {},
   "outputs": [
    {
     "data": {
      "text/plain": [
       "<re.Match object; span=(20, 49), match='amount offered:$3,000,000,000'>"
      ]
     },
     "execution_count": 84,
     "metadata": {},
     "output_type": "execute_result"
    }
   ],
   "source": [
    "re.search(r'((\\w*)?([' '])?(principal amount)([' '])?(\\w*)?(\\:\\$)(\\d*)(\\,)?(\\d*)?(\\,)?(\\d*)?(\\,)?(\\d*)?)', df_wells_sentences[7])\n"
   ]
  },
  {
   "cell_type": "code",
   "execution_count": 83,
   "metadata": {},
   "outputs": [
    {
     "ename": "error",
     "evalue": "unterminated character set at position 20",
     "output_type": "error",
     "traceback": [
      "\u001b[0;31m---------------------------------------------------------------------------\u001b[0m",
      "\u001b[0;31merror\u001b[0m                                     Traceback (most recent call last)",
      "\u001b[0;32m<ipython-input-83-fb5f277dbe21>\u001b[0m in \u001b[0;36m<module>\u001b[0;34m\u001b[0m\n\u001b[0;32m----> 1\u001b[0;31m \u001b[0mre\u001b[0m\u001b[0;34m.\u001b[0m\u001b[0msearch\u001b[0m\u001b[0;34m(\u001b[0m\u001b[0;34mr'((principal amount)(['\u001b[0m \u001b[0;34m'])(\\w*)(\\:\\$))'\u001b[0m\u001b[0;34m,\u001b[0m \u001b[0mdf_wells_sentences\u001b[0m\u001b[0;34m[\u001b[0m\u001b[0;36m7\u001b[0m\u001b[0;34m]\u001b[0m\u001b[0;34m)\u001b[0m\u001b[0;34m\u001b[0m\u001b[0;34m\u001b[0m\u001b[0m\n\u001b[0m",
      "\u001b[0;32m/Applications/anaconda3/lib/python3.7/re.py\u001b[0m in \u001b[0;36msearch\u001b[0;34m(pattern, string, flags)\u001b[0m\n\u001b[1;32m    181\u001b[0m     \"\"\"Scan through string looking for a match to the pattern, returning\n\u001b[1;32m    182\u001b[0m     a Match object, or None if no match was found.\"\"\"\n\u001b[0;32m--> 183\u001b[0;31m     \u001b[0;32mreturn\u001b[0m \u001b[0m_compile\u001b[0m\u001b[0;34m(\u001b[0m\u001b[0mpattern\u001b[0m\u001b[0;34m,\u001b[0m \u001b[0mflags\u001b[0m\u001b[0;34m)\u001b[0m\u001b[0;34m.\u001b[0m\u001b[0msearch\u001b[0m\u001b[0;34m(\u001b[0m\u001b[0mstring\u001b[0m\u001b[0;34m)\u001b[0m\u001b[0;34m\u001b[0m\u001b[0;34m\u001b[0m\u001b[0m\n\u001b[0m\u001b[1;32m    184\u001b[0m \u001b[0;34m\u001b[0m\u001b[0m\n\u001b[1;32m    185\u001b[0m \u001b[0;32mdef\u001b[0m \u001b[0msub\u001b[0m\u001b[0;34m(\u001b[0m\u001b[0mpattern\u001b[0m\u001b[0;34m,\u001b[0m \u001b[0mrepl\u001b[0m\u001b[0;34m,\u001b[0m \u001b[0mstring\u001b[0m\u001b[0;34m,\u001b[0m \u001b[0mcount\u001b[0m\u001b[0;34m=\u001b[0m\u001b[0;36m0\u001b[0m\u001b[0;34m,\u001b[0m \u001b[0mflags\u001b[0m\u001b[0;34m=\u001b[0m\u001b[0;36m0\u001b[0m\u001b[0;34m)\u001b[0m\u001b[0;34m:\u001b[0m\u001b[0;34m\u001b[0m\u001b[0;34m\u001b[0m\u001b[0m\n",
      "\u001b[0;32m/Applications/anaconda3/lib/python3.7/re.py\u001b[0m in \u001b[0;36m_compile\u001b[0;34m(pattern, flags)\u001b[0m\n\u001b[1;32m    284\u001b[0m     \u001b[0;32mif\u001b[0m \u001b[0;32mnot\u001b[0m \u001b[0msre_compile\u001b[0m\u001b[0;34m.\u001b[0m\u001b[0misstring\u001b[0m\u001b[0;34m(\u001b[0m\u001b[0mpattern\u001b[0m\u001b[0;34m)\u001b[0m\u001b[0;34m:\u001b[0m\u001b[0;34m\u001b[0m\u001b[0;34m\u001b[0m\u001b[0m\n\u001b[1;32m    285\u001b[0m         \u001b[0;32mraise\u001b[0m \u001b[0mTypeError\u001b[0m\u001b[0;34m(\u001b[0m\u001b[0;34m\"first argument must be string or compiled pattern\"\u001b[0m\u001b[0;34m)\u001b[0m\u001b[0;34m\u001b[0m\u001b[0;34m\u001b[0m\u001b[0m\n\u001b[0;32m--> 286\u001b[0;31m     \u001b[0mp\u001b[0m \u001b[0;34m=\u001b[0m \u001b[0msre_compile\u001b[0m\u001b[0;34m.\u001b[0m\u001b[0mcompile\u001b[0m\u001b[0;34m(\u001b[0m\u001b[0mpattern\u001b[0m\u001b[0;34m,\u001b[0m \u001b[0mflags\u001b[0m\u001b[0;34m)\u001b[0m\u001b[0;34m\u001b[0m\u001b[0;34m\u001b[0m\u001b[0m\n\u001b[0m\u001b[1;32m    287\u001b[0m     \u001b[0;32mif\u001b[0m \u001b[0;32mnot\u001b[0m \u001b[0;34m(\u001b[0m\u001b[0mflags\u001b[0m \u001b[0;34m&\u001b[0m \u001b[0mDEBUG\u001b[0m\u001b[0;34m)\u001b[0m\u001b[0;34m:\u001b[0m\u001b[0;34m\u001b[0m\u001b[0;34m\u001b[0m\u001b[0m\n\u001b[1;32m    288\u001b[0m         \u001b[0;32mif\u001b[0m \u001b[0mlen\u001b[0m\u001b[0;34m(\u001b[0m\u001b[0m_cache\u001b[0m\u001b[0;34m)\u001b[0m \u001b[0;34m>=\u001b[0m \u001b[0m_MAXCACHE\u001b[0m\u001b[0;34m:\u001b[0m\u001b[0;34m\u001b[0m\u001b[0;34m\u001b[0m\u001b[0m\n",
      "\u001b[0;32m/Applications/anaconda3/lib/python3.7/sre_compile.py\u001b[0m in \u001b[0;36mcompile\u001b[0;34m(p, flags)\u001b[0m\n\u001b[1;32m    762\u001b[0m     \u001b[0;32mif\u001b[0m \u001b[0misstring\u001b[0m\u001b[0;34m(\u001b[0m\u001b[0mp\u001b[0m\u001b[0;34m)\u001b[0m\u001b[0;34m:\u001b[0m\u001b[0;34m\u001b[0m\u001b[0;34m\u001b[0m\u001b[0m\n\u001b[1;32m    763\u001b[0m         \u001b[0mpattern\u001b[0m \u001b[0;34m=\u001b[0m \u001b[0mp\u001b[0m\u001b[0;34m\u001b[0m\u001b[0;34m\u001b[0m\u001b[0m\n\u001b[0;32m--> 764\u001b[0;31m         \u001b[0mp\u001b[0m \u001b[0;34m=\u001b[0m \u001b[0msre_parse\u001b[0m\u001b[0;34m.\u001b[0m\u001b[0mparse\u001b[0m\u001b[0;34m(\u001b[0m\u001b[0mp\u001b[0m\u001b[0;34m,\u001b[0m \u001b[0mflags\u001b[0m\u001b[0;34m)\u001b[0m\u001b[0;34m\u001b[0m\u001b[0;34m\u001b[0m\u001b[0m\n\u001b[0m\u001b[1;32m    765\u001b[0m     \u001b[0;32melse\u001b[0m\u001b[0;34m:\u001b[0m\u001b[0;34m\u001b[0m\u001b[0;34m\u001b[0m\u001b[0m\n\u001b[1;32m    766\u001b[0m         \u001b[0mpattern\u001b[0m \u001b[0;34m=\u001b[0m \u001b[0;32mNone\u001b[0m\u001b[0;34m\u001b[0m\u001b[0;34m\u001b[0m\u001b[0m\n",
      "\u001b[0;32m/Applications/anaconda3/lib/python3.7/sre_parse.py\u001b[0m in \u001b[0;36mparse\u001b[0;34m(str, flags, pattern)\u001b[0m\n\u001b[1;32m    928\u001b[0m \u001b[0;34m\u001b[0m\u001b[0m\n\u001b[1;32m    929\u001b[0m     \u001b[0;32mtry\u001b[0m\u001b[0;34m:\u001b[0m\u001b[0;34m\u001b[0m\u001b[0;34m\u001b[0m\u001b[0m\n\u001b[0;32m--> 930\u001b[0;31m         \u001b[0mp\u001b[0m \u001b[0;34m=\u001b[0m \u001b[0m_parse_sub\u001b[0m\u001b[0;34m(\u001b[0m\u001b[0msource\u001b[0m\u001b[0;34m,\u001b[0m \u001b[0mpattern\u001b[0m\u001b[0;34m,\u001b[0m \u001b[0mflags\u001b[0m \u001b[0;34m&\u001b[0m \u001b[0mSRE_FLAG_VERBOSE\u001b[0m\u001b[0;34m,\u001b[0m \u001b[0;36m0\u001b[0m\u001b[0;34m)\u001b[0m\u001b[0;34m\u001b[0m\u001b[0;34m\u001b[0m\u001b[0m\n\u001b[0m\u001b[1;32m    931\u001b[0m     \u001b[0;32mexcept\u001b[0m \u001b[0mVerbose\u001b[0m\u001b[0;34m:\u001b[0m\u001b[0;34m\u001b[0m\u001b[0;34m\u001b[0m\u001b[0m\n\u001b[1;32m    932\u001b[0m         \u001b[0;31m# the VERBOSE flag was switched on inside the pattern.  to be\u001b[0m\u001b[0;34m\u001b[0m\u001b[0;34m\u001b[0m\u001b[0;34m\u001b[0m\u001b[0m\n",
      "\u001b[0;32m/Applications/anaconda3/lib/python3.7/sre_parse.py\u001b[0m in \u001b[0;36m_parse_sub\u001b[0;34m(source, state, verbose, nested)\u001b[0m\n\u001b[1;32m    424\u001b[0m     \u001b[0;32mwhile\u001b[0m \u001b[0;32mTrue\u001b[0m\u001b[0;34m:\u001b[0m\u001b[0;34m\u001b[0m\u001b[0;34m\u001b[0m\u001b[0m\n\u001b[1;32m    425\u001b[0m         itemsappend(_parse(source, state, verbose, nested + 1,\n\u001b[0;32m--> 426\u001b[0;31m                            not nested and not items))\n\u001b[0m\u001b[1;32m    427\u001b[0m         \u001b[0;32mif\u001b[0m \u001b[0;32mnot\u001b[0m \u001b[0msourcematch\u001b[0m\u001b[0;34m(\u001b[0m\u001b[0;34m\"|\"\u001b[0m\u001b[0;34m)\u001b[0m\u001b[0;34m:\u001b[0m\u001b[0;34m\u001b[0m\u001b[0;34m\u001b[0m\u001b[0m\n\u001b[1;32m    428\u001b[0m             \u001b[0;32mbreak\u001b[0m\u001b[0;34m\u001b[0m\u001b[0;34m\u001b[0m\u001b[0m\n",
      "\u001b[0;32m/Applications/anaconda3/lib/python3.7/sre_parse.py\u001b[0m in \u001b[0;36m_parse\u001b[0;34m(source, state, verbose, nested, first)\u001b[0m\n\u001b[1;32m    814\u001b[0m             sub_verbose = ((verbose or (add_flags & SRE_FLAG_VERBOSE)) and\n\u001b[1;32m    815\u001b[0m                            not (del_flags & SRE_FLAG_VERBOSE))\n\u001b[0;32m--> 816\u001b[0;31m             \u001b[0mp\u001b[0m \u001b[0;34m=\u001b[0m \u001b[0m_parse_sub\u001b[0m\u001b[0;34m(\u001b[0m\u001b[0msource\u001b[0m\u001b[0;34m,\u001b[0m \u001b[0mstate\u001b[0m\u001b[0;34m,\u001b[0m \u001b[0msub_verbose\u001b[0m\u001b[0;34m,\u001b[0m \u001b[0mnested\u001b[0m \u001b[0;34m+\u001b[0m \u001b[0;36m1\u001b[0m\u001b[0;34m)\u001b[0m\u001b[0;34m\u001b[0m\u001b[0;34m\u001b[0m\u001b[0m\n\u001b[0m\u001b[1;32m    817\u001b[0m             \u001b[0;32mif\u001b[0m \u001b[0;32mnot\u001b[0m \u001b[0msource\u001b[0m\u001b[0;34m.\u001b[0m\u001b[0mmatch\u001b[0m\u001b[0;34m(\u001b[0m\u001b[0;34m\")\"\u001b[0m\u001b[0;34m)\u001b[0m\u001b[0;34m:\u001b[0m\u001b[0;34m\u001b[0m\u001b[0;34m\u001b[0m\u001b[0m\n\u001b[1;32m    818\u001b[0m                 raise source.error(\"missing ), unterminated subpattern\",\n",
      "\u001b[0;32m/Applications/anaconda3/lib/python3.7/sre_parse.py\u001b[0m in \u001b[0;36m_parse_sub\u001b[0;34m(source, state, verbose, nested)\u001b[0m\n\u001b[1;32m    424\u001b[0m     \u001b[0;32mwhile\u001b[0m \u001b[0;32mTrue\u001b[0m\u001b[0;34m:\u001b[0m\u001b[0;34m\u001b[0m\u001b[0;34m\u001b[0m\u001b[0m\n\u001b[1;32m    425\u001b[0m         itemsappend(_parse(source, state, verbose, nested + 1,\n\u001b[0;32m--> 426\u001b[0;31m                            not nested and not items))\n\u001b[0m\u001b[1;32m    427\u001b[0m         \u001b[0;32mif\u001b[0m \u001b[0;32mnot\u001b[0m \u001b[0msourcematch\u001b[0m\u001b[0;34m(\u001b[0m\u001b[0;34m\"|\"\u001b[0m\u001b[0;34m)\u001b[0m\u001b[0;34m:\u001b[0m\u001b[0;34m\u001b[0m\u001b[0;34m\u001b[0m\u001b[0m\n\u001b[1;32m    428\u001b[0m             \u001b[0;32mbreak\u001b[0m\u001b[0;34m\u001b[0m\u001b[0;34m\u001b[0m\u001b[0m\n",
      "\u001b[0;32m/Applications/anaconda3/lib/python3.7/sre_parse.py\u001b[0m in \u001b[0;36m_parse\u001b[0;34m(source, state, verbose, nested, first)\u001b[0m\n\u001b[1;32m    814\u001b[0m             sub_verbose = ((verbose or (add_flags & SRE_FLAG_VERBOSE)) and\n\u001b[1;32m    815\u001b[0m                            not (del_flags & SRE_FLAG_VERBOSE))\n\u001b[0;32m--> 816\u001b[0;31m             \u001b[0mp\u001b[0m \u001b[0;34m=\u001b[0m \u001b[0m_parse_sub\u001b[0m\u001b[0;34m(\u001b[0m\u001b[0msource\u001b[0m\u001b[0;34m,\u001b[0m \u001b[0mstate\u001b[0m\u001b[0;34m,\u001b[0m \u001b[0msub_verbose\u001b[0m\u001b[0;34m,\u001b[0m \u001b[0mnested\u001b[0m \u001b[0;34m+\u001b[0m \u001b[0;36m1\u001b[0m\u001b[0;34m)\u001b[0m\u001b[0;34m\u001b[0m\u001b[0;34m\u001b[0m\u001b[0m\n\u001b[0m\u001b[1;32m    817\u001b[0m             \u001b[0;32mif\u001b[0m \u001b[0;32mnot\u001b[0m \u001b[0msource\u001b[0m\u001b[0;34m.\u001b[0m\u001b[0mmatch\u001b[0m\u001b[0;34m(\u001b[0m\u001b[0;34m\")\"\u001b[0m\u001b[0;34m)\u001b[0m\u001b[0;34m:\u001b[0m\u001b[0;34m\u001b[0m\u001b[0;34m\u001b[0m\u001b[0m\n\u001b[1;32m    818\u001b[0m                 raise source.error(\"missing ), unterminated subpattern\",\n",
      "\u001b[0;32m/Applications/anaconda3/lib/python3.7/sre_parse.py\u001b[0m in \u001b[0;36m_parse_sub\u001b[0;34m(source, state, verbose, nested)\u001b[0m\n\u001b[1;32m    424\u001b[0m     \u001b[0;32mwhile\u001b[0m \u001b[0;32mTrue\u001b[0m\u001b[0;34m:\u001b[0m\u001b[0;34m\u001b[0m\u001b[0;34m\u001b[0m\u001b[0m\n\u001b[1;32m    425\u001b[0m         itemsappend(_parse(source, state, verbose, nested + 1,\n\u001b[0;32m--> 426\u001b[0;31m                            not nested and not items))\n\u001b[0m\u001b[1;32m    427\u001b[0m         \u001b[0;32mif\u001b[0m \u001b[0;32mnot\u001b[0m \u001b[0msourcematch\u001b[0m\u001b[0;34m(\u001b[0m\u001b[0;34m\"|\"\u001b[0m\u001b[0;34m)\u001b[0m\u001b[0;34m:\u001b[0m\u001b[0;34m\u001b[0m\u001b[0;34m\u001b[0m\u001b[0m\n\u001b[1;32m    428\u001b[0m             \u001b[0;32mbreak\u001b[0m\u001b[0;34m\u001b[0m\u001b[0;34m\u001b[0m\u001b[0m\n",
      "\u001b[0;32m/Applications/anaconda3/lib/python3.7/sre_parse.py\u001b[0m in \u001b[0;36m_parse\u001b[0;34m(source, state, verbose, nested, first)\u001b[0m\n\u001b[1;32m    530\u001b[0m                 \u001b[0;32mif\u001b[0m \u001b[0mthis\u001b[0m \u001b[0;32mis\u001b[0m \u001b[0;32mNone\u001b[0m\u001b[0;34m:\u001b[0m\u001b[0;34m\u001b[0m\u001b[0;34m\u001b[0m\u001b[0m\n\u001b[1;32m    531\u001b[0m                     raise source.error(\"unterminated character set\",\n\u001b[0;32m--> 532\u001b[0;31m                                        source.tell() - here)\n\u001b[0m\u001b[1;32m    533\u001b[0m                 \u001b[0;32mif\u001b[0m \u001b[0mthis\u001b[0m \u001b[0;34m==\u001b[0m \u001b[0;34m\"]\"\u001b[0m \u001b[0;32mand\u001b[0m \u001b[0mset\u001b[0m\u001b[0;34m:\u001b[0m\u001b[0;34m\u001b[0m\u001b[0;34m\u001b[0m\u001b[0m\n\u001b[1;32m    534\u001b[0m                     \u001b[0;32mbreak\u001b[0m\u001b[0;34m\u001b[0m\u001b[0;34m\u001b[0m\u001b[0m\n",
      "\u001b[0;31merror\u001b[0m: unterminated character set at position 20"
     ]
    }
   ],
   "source": [
    "re.search(r'((principal amount)([' '])(\\w*)(\\:\\$))', df_wells_sentences[7])"
   ]
  },
  {
   "cell_type": "code",
   "execution_count": 73,
   "metadata": {},
   "outputs": [
    {
     "ename": "error",
     "evalue": "unterminated character set at position 20",
     "output_type": "error",
     "traceback": [
      "\u001b[0;31m---------------------------------------------------------------------------\u001b[0m",
      "\u001b[0;31merror\u001b[0m                                     Traceback (most recent call last)",
      "\u001b[0;32m<ipython-input-73-d97549c8f387>\u001b[0m in \u001b[0;36m<module>\u001b[0;34m\u001b[0m\n\u001b[0;32m----> 1\u001b[0;31m \u001b[0mre\u001b[0m\u001b[0;34m.\u001b[0m\u001b[0msearch\u001b[0m\u001b[0;34m(\u001b[0m\u001b[0;34mr'((principal amount)(['\u001b[0m \u001b[0;34m'])(\\w*)(\\:)(\\$))'\u001b[0m\u001b[0;34m,\u001b[0m \u001b[0mdf_wells_sentences\u001b[0m\u001b[0;34m[\u001b[0m\u001b[0;36m7\u001b[0m\u001b[0;34m]\u001b[0m\u001b[0;34m)\u001b[0m\u001b[0;34m\u001b[0m\u001b[0;34m\u001b[0m\u001b[0m\n\u001b[0m",
      "\u001b[0;32m/Applications/anaconda3/lib/python3.7/re.py\u001b[0m in \u001b[0;36msearch\u001b[0;34m(pattern, string, flags)\u001b[0m\n\u001b[1;32m    181\u001b[0m     \"\"\"Scan through string looking for a match to the pattern, returning\n\u001b[1;32m    182\u001b[0m     a Match object, or None if no match was found.\"\"\"\n\u001b[0;32m--> 183\u001b[0;31m     \u001b[0;32mreturn\u001b[0m \u001b[0m_compile\u001b[0m\u001b[0;34m(\u001b[0m\u001b[0mpattern\u001b[0m\u001b[0;34m,\u001b[0m \u001b[0mflags\u001b[0m\u001b[0;34m)\u001b[0m\u001b[0;34m.\u001b[0m\u001b[0msearch\u001b[0m\u001b[0;34m(\u001b[0m\u001b[0mstring\u001b[0m\u001b[0;34m)\u001b[0m\u001b[0;34m\u001b[0m\u001b[0;34m\u001b[0m\u001b[0m\n\u001b[0m\u001b[1;32m    184\u001b[0m \u001b[0;34m\u001b[0m\u001b[0m\n\u001b[1;32m    185\u001b[0m \u001b[0;32mdef\u001b[0m \u001b[0msub\u001b[0m\u001b[0;34m(\u001b[0m\u001b[0mpattern\u001b[0m\u001b[0;34m,\u001b[0m \u001b[0mrepl\u001b[0m\u001b[0;34m,\u001b[0m \u001b[0mstring\u001b[0m\u001b[0;34m,\u001b[0m \u001b[0mcount\u001b[0m\u001b[0;34m=\u001b[0m\u001b[0;36m0\u001b[0m\u001b[0;34m,\u001b[0m \u001b[0mflags\u001b[0m\u001b[0;34m=\u001b[0m\u001b[0;36m0\u001b[0m\u001b[0;34m)\u001b[0m\u001b[0;34m:\u001b[0m\u001b[0;34m\u001b[0m\u001b[0;34m\u001b[0m\u001b[0m\n",
      "\u001b[0;32m/Applications/anaconda3/lib/python3.7/re.py\u001b[0m in \u001b[0;36m_compile\u001b[0;34m(pattern, flags)\u001b[0m\n\u001b[1;32m    284\u001b[0m     \u001b[0;32mif\u001b[0m \u001b[0;32mnot\u001b[0m \u001b[0msre_compile\u001b[0m\u001b[0;34m.\u001b[0m\u001b[0misstring\u001b[0m\u001b[0;34m(\u001b[0m\u001b[0mpattern\u001b[0m\u001b[0;34m)\u001b[0m\u001b[0;34m:\u001b[0m\u001b[0;34m\u001b[0m\u001b[0;34m\u001b[0m\u001b[0m\n\u001b[1;32m    285\u001b[0m         \u001b[0;32mraise\u001b[0m \u001b[0mTypeError\u001b[0m\u001b[0;34m(\u001b[0m\u001b[0;34m\"first argument must be string or compiled pattern\"\u001b[0m\u001b[0;34m)\u001b[0m\u001b[0;34m\u001b[0m\u001b[0;34m\u001b[0m\u001b[0m\n\u001b[0;32m--> 286\u001b[0;31m     \u001b[0mp\u001b[0m \u001b[0;34m=\u001b[0m \u001b[0msre_compile\u001b[0m\u001b[0;34m.\u001b[0m\u001b[0mcompile\u001b[0m\u001b[0;34m(\u001b[0m\u001b[0mpattern\u001b[0m\u001b[0;34m,\u001b[0m \u001b[0mflags\u001b[0m\u001b[0;34m)\u001b[0m\u001b[0;34m\u001b[0m\u001b[0;34m\u001b[0m\u001b[0m\n\u001b[0m\u001b[1;32m    287\u001b[0m     \u001b[0;32mif\u001b[0m \u001b[0;32mnot\u001b[0m \u001b[0;34m(\u001b[0m\u001b[0mflags\u001b[0m \u001b[0;34m&\u001b[0m \u001b[0mDEBUG\u001b[0m\u001b[0;34m)\u001b[0m\u001b[0;34m:\u001b[0m\u001b[0;34m\u001b[0m\u001b[0;34m\u001b[0m\u001b[0m\n\u001b[1;32m    288\u001b[0m         \u001b[0;32mif\u001b[0m \u001b[0mlen\u001b[0m\u001b[0;34m(\u001b[0m\u001b[0m_cache\u001b[0m\u001b[0;34m)\u001b[0m \u001b[0;34m>=\u001b[0m \u001b[0m_MAXCACHE\u001b[0m\u001b[0;34m:\u001b[0m\u001b[0;34m\u001b[0m\u001b[0;34m\u001b[0m\u001b[0m\n",
      "\u001b[0;32m/Applications/anaconda3/lib/python3.7/sre_compile.py\u001b[0m in \u001b[0;36mcompile\u001b[0;34m(p, flags)\u001b[0m\n\u001b[1;32m    762\u001b[0m     \u001b[0;32mif\u001b[0m \u001b[0misstring\u001b[0m\u001b[0;34m(\u001b[0m\u001b[0mp\u001b[0m\u001b[0;34m)\u001b[0m\u001b[0;34m:\u001b[0m\u001b[0;34m\u001b[0m\u001b[0;34m\u001b[0m\u001b[0m\n\u001b[1;32m    763\u001b[0m         \u001b[0mpattern\u001b[0m \u001b[0;34m=\u001b[0m \u001b[0mp\u001b[0m\u001b[0;34m\u001b[0m\u001b[0;34m\u001b[0m\u001b[0m\n\u001b[0;32m--> 764\u001b[0;31m         \u001b[0mp\u001b[0m \u001b[0;34m=\u001b[0m \u001b[0msre_parse\u001b[0m\u001b[0;34m.\u001b[0m\u001b[0mparse\u001b[0m\u001b[0;34m(\u001b[0m\u001b[0mp\u001b[0m\u001b[0;34m,\u001b[0m \u001b[0mflags\u001b[0m\u001b[0;34m)\u001b[0m\u001b[0;34m\u001b[0m\u001b[0;34m\u001b[0m\u001b[0m\n\u001b[0m\u001b[1;32m    765\u001b[0m     \u001b[0;32melse\u001b[0m\u001b[0;34m:\u001b[0m\u001b[0;34m\u001b[0m\u001b[0;34m\u001b[0m\u001b[0m\n\u001b[1;32m    766\u001b[0m         \u001b[0mpattern\u001b[0m \u001b[0;34m=\u001b[0m \u001b[0;32mNone\u001b[0m\u001b[0;34m\u001b[0m\u001b[0;34m\u001b[0m\u001b[0m\n",
      "\u001b[0;32m/Applications/anaconda3/lib/python3.7/sre_parse.py\u001b[0m in \u001b[0;36mparse\u001b[0;34m(str, flags, pattern)\u001b[0m\n\u001b[1;32m    928\u001b[0m \u001b[0;34m\u001b[0m\u001b[0m\n\u001b[1;32m    929\u001b[0m     \u001b[0;32mtry\u001b[0m\u001b[0;34m:\u001b[0m\u001b[0;34m\u001b[0m\u001b[0;34m\u001b[0m\u001b[0m\n\u001b[0;32m--> 930\u001b[0;31m         \u001b[0mp\u001b[0m \u001b[0;34m=\u001b[0m \u001b[0m_parse_sub\u001b[0m\u001b[0;34m(\u001b[0m\u001b[0msource\u001b[0m\u001b[0;34m,\u001b[0m \u001b[0mpattern\u001b[0m\u001b[0;34m,\u001b[0m \u001b[0mflags\u001b[0m \u001b[0;34m&\u001b[0m \u001b[0mSRE_FLAG_VERBOSE\u001b[0m\u001b[0;34m,\u001b[0m \u001b[0;36m0\u001b[0m\u001b[0;34m)\u001b[0m\u001b[0;34m\u001b[0m\u001b[0;34m\u001b[0m\u001b[0m\n\u001b[0m\u001b[1;32m    931\u001b[0m     \u001b[0;32mexcept\u001b[0m \u001b[0mVerbose\u001b[0m\u001b[0;34m:\u001b[0m\u001b[0;34m\u001b[0m\u001b[0;34m\u001b[0m\u001b[0m\n\u001b[1;32m    932\u001b[0m         \u001b[0;31m# the VERBOSE flag was switched on inside the pattern.  to be\u001b[0m\u001b[0;34m\u001b[0m\u001b[0;34m\u001b[0m\u001b[0;34m\u001b[0m\u001b[0m\n",
      "\u001b[0;32m/Applications/anaconda3/lib/python3.7/sre_parse.py\u001b[0m in \u001b[0;36m_parse_sub\u001b[0;34m(source, state, verbose, nested)\u001b[0m\n\u001b[1;32m    424\u001b[0m     \u001b[0;32mwhile\u001b[0m \u001b[0;32mTrue\u001b[0m\u001b[0;34m:\u001b[0m\u001b[0;34m\u001b[0m\u001b[0;34m\u001b[0m\u001b[0m\n\u001b[1;32m    425\u001b[0m         itemsappend(_parse(source, state, verbose, nested + 1,\n\u001b[0;32m--> 426\u001b[0;31m                            not nested and not items))\n\u001b[0m\u001b[1;32m    427\u001b[0m         \u001b[0;32mif\u001b[0m \u001b[0;32mnot\u001b[0m \u001b[0msourcematch\u001b[0m\u001b[0;34m(\u001b[0m\u001b[0;34m\"|\"\u001b[0m\u001b[0;34m)\u001b[0m\u001b[0;34m:\u001b[0m\u001b[0;34m\u001b[0m\u001b[0;34m\u001b[0m\u001b[0m\n\u001b[1;32m    428\u001b[0m             \u001b[0;32mbreak\u001b[0m\u001b[0;34m\u001b[0m\u001b[0;34m\u001b[0m\u001b[0m\n",
      "\u001b[0;32m/Applications/anaconda3/lib/python3.7/sre_parse.py\u001b[0m in \u001b[0;36m_parse\u001b[0;34m(source, state, verbose, nested, first)\u001b[0m\n\u001b[1;32m    814\u001b[0m             sub_verbose = ((verbose or (add_flags & SRE_FLAG_VERBOSE)) and\n\u001b[1;32m    815\u001b[0m                            not (del_flags & SRE_FLAG_VERBOSE))\n\u001b[0;32m--> 816\u001b[0;31m             \u001b[0mp\u001b[0m \u001b[0;34m=\u001b[0m \u001b[0m_parse_sub\u001b[0m\u001b[0;34m(\u001b[0m\u001b[0msource\u001b[0m\u001b[0;34m,\u001b[0m \u001b[0mstate\u001b[0m\u001b[0;34m,\u001b[0m \u001b[0msub_verbose\u001b[0m\u001b[0;34m,\u001b[0m \u001b[0mnested\u001b[0m \u001b[0;34m+\u001b[0m \u001b[0;36m1\u001b[0m\u001b[0;34m)\u001b[0m\u001b[0;34m\u001b[0m\u001b[0;34m\u001b[0m\u001b[0m\n\u001b[0m\u001b[1;32m    817\u001b[0m             \u001b[0;32mif\u001b[0m \u001b[0;32mnot\u001b[0m \u001b[0msource\u001b[0m\u001b[0;34m.\u001b[0m\u001b[0mmatch\u001b[0m\u001b[0;34m(\u001b[0m\u001b[0;34m\")\"\u001b[0m\u001b[0;34m)\u001b[0m\u001b[0;34m:\u001b[0m\u001b[0;34m\u001b[0m\u001b[0;34m\u001b[0m\u001b[0m\n\u001b[1;32m    818\u001b[0m                 raise source.error(\"missing ), unterminated subpattern\",\n",
      "\u001b[0;32m/Applications/anaconda3/lib/python3.7/sre_parse.py\u001b[0m in \u001b[0;36m_parse_sub\u001b[0;34m(source, state, verbose, nested)\u001b[0m\n\u001b[1;32m    424\u001b[0m     \u001b[0;32mwhile\u001b[0m \u001b[0;32mTrue\u001b[0m\u001b[0;34m:\u001b[0m\u001b[0;34m\u001b[0m\u001b[0;34m\u001b[0m\u001b[0m\n\u001b[1;32m    425\u001b[0m         itemsappend(_parse(source, state, verbose, nested + 1,\n\u001b[0;32m--> 426\u001b[0;31m                            not nested and not items))\n\u001b[0m\u001b[1;32m    427\u001b[0m         \u001b[0;32mif\u001b[0m \u001b[0;32mnot\u001b[0m \u001b[0msourcematch\u001b[0m\u001b[0;34m(\u001b[0m\u001b[0;34m\"|\"\u001b[0m\u001b[0;34m)\u001b[0m\u001b[0;34m:\u001b[0m\u001b[0;34m\u001b[0m\u001b[0;34m\u001b[0m\u001b[0m\n\u001b[1;32m    428\u001b[0m             \u001b[0;32mbreak\u001b[0m\u001b[0;34m\u001b[0m\u001b[0;34m\u001b[0m\u001b[0m\n",
      "\u001b[0;32m/Applications/anaconda3/lib/python3.7/sre_parse.py\u001b[0m in \u001b[0;36m_parse\u001b[0;34m(source, state, verbose, nested, first)\u001b[0m\n\u001b[1;32m    814\u001b[0m             sub_verbose = ((verbose or (add_flags & SRE_FLAG_VERBOSE)) and\n\u001b[1;32m    815\u001b[0m                            not (del_flags & SRE_FLAG_VERBOSE))\n\u001b[0;32m--> 816\u001b[0;31m             \u001b[0mp\u001b[0m \u001b[0;34m=\u001b[0m \u001b[0m_parse_sub\u001b[0m\u001b[0;34m(\u001b[0m\u001b[0msource\u001b[0m\u001b[0;34m,\u001b[0m \u001b[0mstate\u001b[0m\u001b[0;34m,\u001b[0m \u001b[0msub_verbose\u001b[0m\u001b[0;34m,\u001b[0m \u001b[0mnested\u001b[0m \u001b[0;34m+\u001b[0m \u001b[0;36m1\u001b[0m\u001b[0;34m)\u001b[0m\u001b[0;34m\u001b[0m\u001b[0;34m\u001b[0m\u001b[0m\n\u001b[0m\u001b[1;32m    817\u001b[0m             \u001b[0;32mif\u001b[0m \u001b[0;32mnot\u001b[0m \u001b[0msource\u001b[0m\u001b[0;34m.\u001b[0m\u001b[0mmatch\u001b[0m\u001b[0;34m(\u001b[0m\u001b[0;34m\")\"\u001b[0m\u001b[0;34m)\u001b[0m\u001b[0;34m:\u001b[0m\u001b[0;34m\u001b[0m\u001b[0;34m\u001b[0m\u001b[0m\n\u001b[1;32m    818\u001b[0m                 raise source.error(\"missing ), unterminated subpattern\",\n",
      "\u001b[0;32m/Applications/anaconda3/lib/python3.7/sre_parse.py\u001b[0m in \u001b[0;36m_parse_sub\u001b[0;34m(source, state, verbose, nested)\u001b[0m\n\u001b[1;32m    424\u001b[0m     \u001b[0;32mwhile\u001b[0m \u001b[0;32mTrue\u001b[0m\u001b[0;34m:\u001b[0m\u001b[0;34m\u001b[0m\u001b[0;34m\u001b[0m\u001b[0m\n\u001b[1;32m    425\u001b[0m         itemsappend(_parse(source, state, verbose, nested + 1,\n\u001b[0;32m--> 426\u001b[0;31m                            not nested and not items))\n\u001b[0m\u001b[1;32m    427\u001b[0m         \u001b[0;32mif\u001b[0m \u001b[0;32mnot\u001b[0m \u001b[0msourcematch\u001b[0m\u001b[0;34m(\u001b[0m\u001b[0;34m\"|\"\u001b[0m\u001b[0;34m)\u001b[0m\u001b[0;34m:\u001b[0m\u001b[0;34m\u001b[0m\u001b[0;34m\u001b[0m\u001b[0m\n\u001b[1;32m    428\u001b[0m             \u001b[0;32mbreak\u001b[0m\u001b[0;34m\u001b[0m\u001b[0;34m\u001b[0m\u001b[0m\n",
      "\u001b[0;32m/Applications/anaconda3/lib/python3.7/sre_parse.py\u001b[0m in \u001b[0;36m_parse\u001b[0;34m(source, state, verbose, nested, first)\u001b[0m\n\u001b[1;32m    530\u001b[0m                 \u001b[0;32mif\u001b[0m \u001b[0mthis\u001b[0m \u001b[0;32mis\u001b[0m \u001b[0;32mNone\u001b[0m\u001b[0;34m:\u001b[0m\u001b[0;34m\u001b[0m\u001b[0;34m\u001b[0m\u001b[0m\n\u001b[1;32m    531\u001b[0m                     raise source.error(\"unterminated character set\",\n\u001b[0;32m--> 532\u001b[0;31m                                        source.tell() - here)\n\u001b[0m\u001b[1;32m    533\u001b[0m                 \u001b[0;32mif\u001b[0m \u001b[0mthis\u001b[0m \u001b[0;34m==\u001b[0m \u001b[0;34m\"]\"\u001b[0m \u001b[0;32mand\u001b[0m \u001b[0mset\u001b[0m\u001b[0;34m:\u001b[0m\u001b[0;34m\u001b[0m\u001b[0;34m\u001b[0m\u001b[0m\n\u001b[1;32m    534\u001b[0m                     \u001b[0;32mbreak\u001b[0m\u001b[0;34m\u001b[0m\u001b[0;34m\u001b[0m\u001b[0m\n",
      "\u001b[0;31merror\u001b[0m: unterminated character set at position 20"
     ]
    }
   ],
   "source": [
    "re.search(r'((principal amount)([' '])(\\w*)(\\:)(\\$))', df_wells_sentences[7])"
   ]
  },
  {
   "cell_type": "code",
   "execution_count": 66,
   "metadata": {},
   "outputs": [
    {
     "ename": "error",
     "evalue": "unterminated character set at position 8",
     "output_type": "error",
     "traceback": [
      "\u001b[0;31m---------------------------------------------------------------------------\u001b[0m",
      "\u001b[0;31merror\u001b[0m                                     Traceback (most recent call last)",
      "\u001b[0;32m<ipython-input-66-5e33f75fcb0f>\u001b[0m in \u001b[0;36m<module>\u001b[0;34m\u001b[0m\n\u001b[0;32m----> 1\u001b[0;31m \u001b[0mre\u001b[0m\u001b[0;34m.\u001b[0m\u001b[0msearch\u001b[0m\u001b[0;34m(\u001b[0m\u001b[0;34mr'((\\w*)?(['\u001b[0m \u001b[0;34m'])?principal(\\:)(\\$)(\\d*)(\\,)?(\\d*)?(\\,)?(\\d*)?(\\,)?(\\d*)?)'\u001b[0m\u001b[0;34m,\u001b[0m \u001b[0mdf_wells_sentences\u001b[0m\u001b[0;34m[\u001b[0m\u001b[0;36m7\u001b[0m\u001b[0;34m]\u001b[0m\u001b[0;34m)\u001b[0m\u001b[0;34m\u001b[0m\u001b[0;34m\u001b[0m\u001b[0m\n\u001b[0m",
      "\u001b[0;32m/Applications/anaconda3/lib/python3.7/re.py\u001b[0m in \u001b[0;36msearch\u001b[0;34m(pattern, string, flags)\u001b[0m\n\u001b[1;32m    181\u001b[0m     \"\"\"Scan through string looking for a match to the pattern, returning\n\u001b[1;32m    182\u001b[0m     a Match object, or None if no match was found.\"\"\"\n\u001b[0;32m--> 183\u001b[0;31m     \u001b[0;32mreturn\u001b[0m \u001b[0m_compile\u001b[0m\u001b[0;34m(\u001b[0m\u001b[0mpattern\u001b[0m\u001b[0;34m,\u001b[0m \u001b[0mflags\u001b[0m\u001b[0;34m)\u001b[0m\u001b[0;34m.\u001b[0m\u001b[0msearch\u001b[0m\u001b[0;34m(\u001b[0m\u001b[0mstring\u001b[0m\u001b[0;34m)\u001b[0m\u001b[0;34m\u001b[0m\u001b[0;34m\u001b[0m\u001b[0m\n\u001b[0m\u001b[1;32m    184\u001b[0m \u001b[0;34m\u001b[0m\u001b[0m\n\u001b[1;32m    185\u001b[0m \u001b[0;32mdef\u001b[0m \u001b[0msub\u001b[0m\u001b[0;34m(\u001b[0m\u001b[0mpattern\u001b[0m\u001b[0;34m,\u001b[0m \u001b[0mrepl\u001b[0m\u001b[0;34m,\u001b[0m \u001b[0mstring\u001b[0m\u001b[0;34m,\u001b[0m \u001b[0mcount\u001b[0m\u001b[0;34m=\u001b[0m\u001b[0;36m0\u001b[0m\u001b[0;34m,\u001b[0m \u001b[0mflags\u001b[0m\u001b[0;34m=\u001b[0m\u001b[0;36m0\u001b[0m\u001b[0;34m)\u001b[0m\u001b[0;34m:\u001b[0m\u001b[0;34m\u001b[0m\u001b[0;34m\u001b[0m\u001b[0m\n",
      "\u001b[0;32m/Applications/anaconda3/lib/python3.7/re.py\u001b[0m in \u001b[0;36m_compile\u001b[0;34m(pattern, flags)\u001b[0m\n\u001b[1;32m    284\u001b[0m     \u001b[0;32mif\u001b[0m \u001b[0;32mnot\u001b[0m \u001b[0msre_compile\u001b[0m\u001b[0;34m.\u001b[0m\u001b[0misstring\u001b[0m\u001b[0;34m(\u001b[0m\u001b[0mpattern\u001b[0m\u001b[0;34m)\u001b[0m\u001b[0;34m:\u001b[0m\u001b[0;34m\u001b[0m\u001b[0;34m\u001b[0m\u001b[0m\n\u001b[1;32m    285\u001b[0m         \u001b[0;32mraise\u001b[0m \u001b[0mTypeError\u001b[0m\u001b[0;34m(\u001b[0m\u001b[0;34m\"first argument must be string or compiled pattern\"\u001b[0m\u001b[0;34m)\u001b[0m\u001b[0;34m\u001b[0m\u001b[0;34m\u001b[0m\u001b[0m\n\u001b[0;32m--> 286\u001b[0;31m     \u001b[0mp\u001b[0m \u001b[0;34m=\u001b[0m \u001b[0msre_compile\u001b[0m\u001b[0;34m.\u001b[0m\u001b[0mcompile\u001b[0m\u001b[0;34m(\u001b[0m\u001b[0mpattern\u001b[0m\u001b[0;34m,\u001b[0m \u001b[0mflags\u001b[0m\u001b[0;34m)\u001b[0m\u001b[0;34m\u001b[0m\u001b[0;34m\u001b[0m\u001b[0m\n\u001b[0m\u001b[1;32m    287\u001b[0m     \u001b[0;32mif\u001b[0m \u001b[0;32mnot\u001b[0m \u001b[0;34m(\u001b[0m\u001b[0mflags\u001b[0m \u001b[0;34m&\u001b[0m \u001b[0mDEBUG\u001b[0m\u001b[0;34m)\u001b[0m\u001b[0;34m:\u001b[0m\u001b[0;34m\u001b[0m\u001b[0;34m\u001b[0m\u001b[0m\n\u001b[1;32m    288\u001b[0m         \u001b[0;32mif\u001b[0m \u001b[0mlen\u001b[0m\u001b[0;34m(\u001b[0m\u001b[0m_cache\u001b[0m\u001b[0;34m)\u001b[0m \u001b[0;34m>=\u001b[0m \u001b[0m_MAXCACHE\u001b[0m\u001b[0;34m:\u001b[0m\u001b[0;34m\u001b[0m\u001b[0;34m\u001b[0m\u001b[0m\n",
      "\u001b[0;32m/Applications/anaconda3/lib/python3.7/sre_compile.py\u001b[0m in \u001b[0;36mcompile\u001b[0;34m(p, flags)\u001b[0m\n\u001b[1;32m    762\u001b[0m     \u001b[0;32mif\u001b[0m \u001b[0misstring\u001b[0m\u001b[0;34m(\u001b[0m\u001b[0mp\u001b[0m\u001b[0;34m)\u001b[0m\u001b[0;34m:\u001b[0m\u001b[0;34m\u001b[0m\u001b[0;34m\u001b[0m\u001b[0m\n\u001b[1;32m    763\u001b[0m         \u001b[0mpattern\u001b[0m \u001b[0;34m=\u001b[0m \u001b[0mp\u001b[0m\u001b[0;34m\u001b[0m\u001b[0;34m\u001b[0m\u001b[0m\n\u001b[0;32m--> 764\u001b[0;31m         \u001b[0mp\u001b[0m \u001b[0;34m=\u001b[0m \u001b[0msre_parse\u001b[0m\u001b[0;34m.\u001b[0m\u001b[0mparse\u001b[0m\u001b[0;34m(\u001b[0m\u001b[0mp\u001b[0m\u001b[0;34m,\u001b[0m \u001b[0mflags\u001b[0m\u001b[0;34m)\u001b[0m\u001b[0;34m\u001b[0m\u001b[0;34m\u001b[0m\u001b[0m\n\u001b[0m\u001b[1;32m    765\u001b[0m     \u001b[0;32melse\u001b[0m\u001b[0;34m:\u001b[0m\u001b[0;34m\u001b[0m\u001b[0;34m\u001b[0m\u001b[0m\n\u001b[1;32m    766\u001b[0m         \u001b[0mpattern\u001b[0m \u001b[0;34m=\u001b[0m \u001b[0;32mNone\u001b[0m\u001b[0;34m\u001b[0m\u001b[0;34m\u001b[0m\u001b[0m\n",
      "\u001b[0;32m/Applications/anaconda3/lib/python3.7/sre_parse.py\u001b[0m in \u001b[0;36mparse\u001b[0;34m(str, flags, pattern)\u001b[0m\n\u001b[1;32m    928\u001b[0m \u001b[0;34m\u001b[0m\u001b[0m\n\u001b[1;32m    929\u001b[0m     \u001b[0;32mtry\u001b[0m\u001b[0;34m:\u001b[0m\u001b[0;34m\u001b[0m\u001b[0;34m\u001b[0m\u001b[0m\n\u001b[0;32m--> 930\u001b[0;31m         \u001b[0mp\u001b[0m \u001b[0;34m=\u001b[0m \u001b[0m_parse_sub\u001b[0m\u001b[0;34m(\u001b[0m\u001b[0msource\u001b[0m\u001b[0;34m,\u001b[0m \u001b[0mpattern\u001b[0m\u001b[0;34m,\u001b[0m \u001b[0mflags\u001b[0m \u001b[0;34m&\u001b[0m \u001b[0mSRE_FLAG_VERBOSE\u001b[0m\u001b[0;34m,\u001b[0m \u001b[0;36m0\u001b[0m\u001b[0;34m)\u001b[0m\u001b[0;34m\u001b[0m\u001b[0;34m\u001b[0m\u001b[0m\n\u001b[0m\u001b[1;32m    931\u001b[0m     \u001b[0;32mexcept\u001b[0m \u001b[0mVerbose\u001b[0m\u001b[0;34m:\u001b[0m\u001b[0;34m\u001b[0m\u001b[0;34m\u001b[0m\u001b[0m\n\u001b[1;32m    932\u001b[0m         \u001b[0;31m# the VERBOSE flag was switched on inside the pattern.  to be\u001b[0m\u001b[0;34m\u001b[0m\u001b[0;34m\u001b[0m\u001b[0;34m\u001b[0m\u001b[0m\n",
      "\u001b[0;32m/Applications/anaconda3/lib/python3.7/sre_parse.py\u001b[0m in \u001b[0;36m_parse_sub\u001b[0;34m(source, state, verbose, nested)\u001b[0m\n\u001b[1;32m    424\u001b[0m     \u001b[0;32mwhile\u001b[0m \u001b[0;32mTrue\u001b[0m\u001b[0;34m:\u001b[0m\u001b[0;34m\u001b[0m\u001b[0;34m\u001b[0m\u001b[0m\n\u001b[1;32m    425\u001b[0m         itemsappend(_parse(source, state, verbose, nested + 1,\n\u001b[0;32m--> 426\u001b[0;31m                            not nested and not items))\n\u001b[0m\u001b[1;32m    427\u001b[0m         \u001b[0;32mif\u001b[0m \u001b[0;32mnot\u001b[0m \u001b[0msourcematch\u001b[0m\u001b[0;34m(\u001b[0m\u001b[0;34m\"|\"\u001b[0m\u001b[0;34m)\u001b[0m\u001b[0;34m:\u001b[0m\u001b[0;34m\u001b[0m\u001b[0;34m\u001b[0m\u001b[0m\n\u001b[1;32m    428\u001b[0m             \u001b[0;32mbreak\u001b[0m\u001b[0;34m\u001b[0m\u001b[0;34m\u001b[0m\u001b[0m\n",
      "\u001b[0;32m/Applications/anaconda3/lib/python3.7/sre_parse.py\u001b[0m in \u001b[0;36m_parse\u001b[0;34m(source, state, verbose, nested, first)\u001b[0m\n\u001b[1;32m    814\u001b[0m             sub_verbose = ((verbose or (add_flags & SRE_FLAG_VERBOSE)) and\n\u001b[1;32m    815\u001b[0m                            not (del_flags & SRE_FLAG_VERBOSE))\n\u001b[0;32m--> 816\u001b[0;31m             \u001b[0mp\u001b[0m \u001b[0;34m=\u001b[0m \u001b[0m_parse_sub\u001b[0m\u001b[0;34m(\u001b[0m\u001b[0msource\u001b[0m\u001b[0;34m,\u001b[0m \u001b[0mstate\u001b[0m\u001b[0;34m,\u001b[0m \u001b[0msub_verbose\u001b[0m\u001b[0;34m,\u001b[0m \u001b[0mnested\u001b[0m \u001b[0;34m+\u001b[0m \u001b[0;36m1\u001b[0m\u001b[0;34m)\u001b[0m\u001b[0;34m\u001b[0m\u001b[0;34m\u001b[0m\u001b[0m\n\u001b[0m\u001b[1;32m    817\u001b[0m             \u001b[0;32mif\u001b[0m \u001b[0;32mnot\u001b[0m \u001b[0msource\u001b[0m\u001b[0;34m.\u001b[0m\u001b[0mmatch\u001b[0m\u001b[0;34m(\u001b[0m\u001b[0;34m\")\"\u001b[0m\u001b[0;34m)\u001b[0m\u001b[0;34m:\u001b[0m\u001b[0;34m\u001b[0m\u001b[0;34m\u001b[0m\u001b[0m\n\u001b[1;32m    818\u001b[0m                 raise source.error(\"missing ), unterminated subpattern\",\n",
      "\u001b[0;32m/Applications/anaconda3/lib/python3.7/sre_parse.py\u001b[0m in \u001b[0;36m_parse_sub\u001b[0;34m(source, state, verbose, nested)\u001b[0m\n\u001b[1;32m    424\u001b[0m     \u001b[0;32mwhile\u001b[0m \u001b[0;32mTrue\u001b[0m\u001b[0;34m:\u001b[0m\u001b[0;34m\u001b[0m\u001b[0;34m\u001b[0m\u001b[0m\n\u001b[1;32m    425\u001b[0m         itemsappend(_parse(source, state, verbose, nested + 1,\n\u001b[0;32m--> 426\u001b[0;31m                            not nested and not items))\n\u001b[0m\u001b[1;32m    427\u001b[0m         \u001b[0;32mif\u001b[0m \u001b[0;32mnot\u001b[0m \u001b[0msourcematch\u001b[0m\u001b[0;34m(\u001b[0m\u001b[0;34m\"|\"\u001b[0m\u001b[0;34m)\u001b[0m\u001b[0;34m:\u001b[0m\u001b[0;34m\u001b[0m\u001b[0;34m\u001b[0m\u001b[0m\n\u001b[1;32m    428\u001b[0m             \u001b[0;32mbreak\u001b[0m\u001b[0;34m\u001b[0m\u001b[0;34m\u001b[0m\u001b[0m\n",
      "\u001b[0;32m/Applications/anaconda3/lib/python3.7/sre_parse.py\u001b[0m in \u001b[0;36m_parse\u001b[0;34m(source, state, verbose, nested, first)\u001b[0m\n\u001b[1;32m    814\u001b[0m             sub_verbose = ((verbose or (add_flags & SRE_FLAG_VERBOSE)) and\n\u001b[1;32m    815\u001b[0m                            not (del_flags & SRE_FLAG_VERBOSE))\n\u001b[0;32m--> 816\u001b[0;31m             \u001b[0mp\u001b[0m \u001b[0;34m=\u001b[0m \u001b[0m_parse_sub\u001b[0m\u001b[0;34m(\u001b[0m\u001b[0msource\u001b[0m\u001b[0;34m,\u001b[0m \u001b[0mstate\u001b[0m\u001b[0;34m,\u001b[0m \u001b[0msub_verbose\u001b[0m\u001b[0;34m,\u001b[0m \u001b[0mnested\u001b[0m \u001b[0;34m+\u001b[0m \u001b[0;36m1\u001b[0m\u001b[0;34m)\u001b[0m\u001b[0;34m\u001b[0m\u001b[0;34m\u001b[0m\u001b[0m\n\u001b[0m\u001b[1;32m    817\u001b[0m             \u001b[0;32mif\u001b[0m \u001b[0;32mnot\u001b[0m \u001b[0msource\u001b[0m\u001b[0;34m.\u001b[0m\u001b[0mmatch\u001b[0m\u001b[0;34m(\u001b[0m\u001b[0;34m\")\"\u001b[0m\u001b[0;34m)\u001b[0m\u001b[0;34m:\u001b[0m\u001b[0;34m\u001b[0m\u001b[0;34m\u001b[0m\u001b[0m\n\u001b[1;32m    818\u001b[0m                 raise source.error(\"missing ), unterminated subpattern\",\n",
      "\u001b[0;32m/Applications/anaconda3/lib/python3.7/sre_parse.py\u001b[0m in \u001b[0;36m_parse_sub\u001b[0;34m(source, state, verbose, nested)\u001b[0m\n\u001b[1;32m    424\u001b[0m     \u001b[0;32mwhile\u001b[0m \u001b[0;32mTrue\u001b[0m\u001b[0;34m:\u001b[0m\u001b[0;34m\u001b[0m\u001b[0;34m\u001b[0m\u001b[0m\n\u001b[1;32m    425\u001b[0m         itemsappend(_parse(source, state, verbose, nested + 1,\n\u001b[0;32m--> 426\u001b[0;31m                            not nested and not items))\n\u001b[0m\u001b[1;32m    427\u001b[0m         \u001b[0;32mif\u001b[0m \u001b[0;32mnot\u001b[0m \u001b[0msourcematch\u001b[0m\u001b[0;34m(\u001b[0m\u001b[0;34m\"|\"\u001b[0m\u001b[0;34m)\u001b[0m\u001b[0;34m:\u001b[0m\u001b[0;34m\u001b[0m\u001b[0;34m\u001b[0m\u001b[0m\n\u001b[1;32m    428\u001b[0m             \u001b[0;32mbreak\u001b[0m\u001b[0;34m\u001b[0m\u001b[0;34m\u001b[0m\u001b[0m\n",
      "\u001b[0;32m/Applications/anaconda3/lib/python3.7/sre_parse.py\u001b[0m in \u001b[0;36m_parse\u001b[0;34m(source, state, verbose, nested, first)\u001b[0m\n\u001b[1;32m    530\u001b[0m                 \u001b[0;32mif\u001b[0m \u001b[0mthis\u001b[0m \u001b[0;32mis\u001b[0m \u001b[0;32mNone\u001b[0m\u001b[0;34m:\u001b[0m\u001b[0;34m\u001b[0m\u001b[0;34m\u001b[0m\u001b[0m\n\u001b[1;32m    531\u001b[0m                     raise source.error(\"unterminated character set\",\n\u001b[0;32m--> 532\u001b[0;31m                                        source.tell() - here)\n\u001b[0m\u001b[1;32m    533\u001b[0m                 \u001b[0;32mif\u001b[0m \u001b[0mthis\u001b[0m \u001b[0;34m==\u001b[0m \u001b[0;34m\"]\"\u001b[0m \u001b[0;32mand\u001b[0m \u001b[0mset\u001b[0m\u001b[0;34m:\u001b[0m\u001b[0;34m\u001b[0m\u001b[0;34m\u001b[0m\u001b[0m\n\u001b[1;32m    534\u001b[0m                     \u001b[0;32mbreak\u001b[0m\u001b[0;34m\u001b[0m\u001b[0;34m\u001b[0m\u001b[0m\n",
      "\u001b[0;31merror\u001b[0m: unterminated character set at position 8"
     ]
    }
   ],
   "source": [
    "re.search(r'((\\w*)?([' '])?principal(\\:)(\\$)(\\d*)(\\,)?(\\d*)?(\\,)?(\\d*)?(\\,)?(\\d*)?)', df_wells_sentences[7])\n"
   ]
  },
  {
   "cell_type": "code",
   "execution_count": null,
   "metadata": {},
   "outputs": [],
   "source": []
  }
 ],
 "metadata": {
  "kernelspec": {
   "display_name": "Python 3",
   "language": "python",
   "name": "python3"
  },
  "language_info": {
   "codemirror_mode": {
    "name": "ipython",
    "version": 3
   },
   "file_extension": ".py",
   "mimetype": "text/x-python",
   "name": "python",
   "nbconvert_exporter": "python",
   "pygments_lexer": "ipython3",
   "version": "3.7.3"
  }
 },
 "nbformat": 4,
 "nbformat_minor": 2
}
